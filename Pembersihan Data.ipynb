{
 "cells": [
  {
   "cell_type": "code",
   "execution_count": 1,
   "id": "e8751842",
   "metadata": {},
   "outputs": [],
   "source": [
    "import pandas as pd\n",
    "import numpy as np\n",
    "from sklearn.model_selection import train_test_split\n",
    "from sklearn.linear_model import LogisticRegression\n",
    "from sklearn import metrics\n",
    "from sklearn.metrics import mean_absolute_error,mean_squared_error\n",
    "from sklearn.neural_network import MLPClassifier\n",
    "from sklearn.metrics import classification_report\n",
    "from sklearn.metrics import confusion_matrix"
   ]
  },
  {
   "cell_type": "markdown",
   "id": "1cfffe53",
   "metadata": {},
   "source": [
    "### Iris Dataset"
   ]
  },
  {
   "cell_type": "code",
   "execution_count": 2,
   "id": "16d08037",
   "metadata": {},
   "outputs": [
    {
     "data": {
      "text/html": [
       "<div>\n",
       "<style scoped>\n",
       "    .dataframe tbody tr th:only-of-type {\n",
       "        vertical-align: middle;\n",
       "    }\n",
       "\n",
       "    .dataframe tbody tr th {\n",
       "        vertical-align: top;\n",
       "    }\n",
       "\n",
       "    .dataframe thead th {\n",
       "        text-align: right;\n",
       "    }\n",
       "</style>\n",
       "<table border=\"1\" class=\"dataframe\">\n",
       "  <thead>\n",
       "    <tr style=\"text-align: right;\">\n",
       "      <th></th>\n",
       "      <th>5.1</th>\n",
       "      <th>3.5</th>\n",
       "      <th>1.4</th>\n",
       "      <th>0.2</th>\n",
       "      <th>Iris-setosa</th>\n",
       "    </tr>\n",
       "  </thead>\n",
       "  <tbody>\n",
       "    <tr>\n",
       "      <th>0</th>\n",
       "      <td>4.9</td>\n",
       "      <td>3.0</td>\n",
       "      <td>1.4</td>\n",
       "      <td>0.2</td>\n",
       "      <td>Iris-setosa</td>\n",
       "    </tr>\n",
       "    <tr>\n",
       "      <th>1</th>\n",
       "      <td>4.7</td>\n",
       "      <td>3.2</td>\n",
       "      <td>1.3</td>\n",
       "      <td>0.2</td>\n",
       "      <td>Iris-setosa</td>\n",
       "    </tr>\n",
       "    <tr>\n",
       "      <th>2</th>\n",
       "      <td>4.6</td>\n",
       "      <td>3.1</td>\n",
       "      <td>1.5</td>\n",
       "      <td>0.2</td>\n",
       "      <td>Iris-setosa</td>\n",
       "    </tr>\n",
       "    <tr>\n",
       "      <th>3</th>\n",
       "      <td>5.0</td>\n",
       "      <td>3.6</td>\n",
       "      <td>1.4</td>\n",
       "      <td>0.2</td>\n",
       "      <td>Iris-setosa</td>\n",
       "    </tr>\n",
       "    <tr>\n",
       "      <th>4</th>\n",
       "      <td>5.4</td>\n",
       "      <td>3.9</td>\n",
       "      <td>1.7</td>\n",
       "      <td>0.4</td>\n",
       "      <td>Iris-setosa</td>\n",
       "    </tr>\n",
       "    <tr>\n",
       "      <th>...</th>\n",
       "      <td>...</td>\n",
       "      <td>...</td>\n",
       "      <td>...</td>\n",
       "      <td>...</td>\n",
       "      <td>...</td>\n",
       "    </tr>\n",
       "    <tr>\n",
       "      <th>144</th>\n",
       "      <td>6.7</td>\n",
       "      <td>3.0</td>\n",
       "      <td>5.2</td>\n",
       "      <td>2.3</td>\n",
       "      <td>Iris-virginica</td>\n",
       "    </tr>\n",
       "    <tr>\n",
       "      <th>145</th>\n",
       "      <td>6.3</td>\n",
       "      <td>2.5</td>\n",
       "      <td>5.0</td>\n",
       "      <td>1.9</td>\n",
       "      <td>Iris-virginica</td>\n",
       "    </tr>\n",
       "    <tr>\n",
       "      <th>146</th>\n",
       "      <td>6.5</td>\n",
       "      <td>3.0</td>\n",
       "      <td>5.2</td>\n",
       "      <td>2.0</td>\n",
       "      <td>Iris-virginica</td>\n",
       "    </tr>\n",
       "    <tr>\n",
       "      <th>147</th>\n",
       "      <td>6.2</td>\n",
       "      <td>3.4</td>\n",
       "      <td>5.4</td>\n",
       "      <td>2.3</td>\n",
       "      <td>Iris-virginica</td>\n",
       "    </tr>\n",
       "    <tr>\n",
       "      <th>148</th>\n",
       "      <td>5.9</td>\n",
       "      <td>3.0</td>\n",
       "      <td>5.1</td>\n",
       "      <td>1.8</td>\n",
       "      <td>Iris-virginica</td>\n",
       "    </tr>\n",
       "  </tbody>\n",
       "</table>\n",
       "<p>149 rows × 5 columns</p>\n",
       "</div>"
      ],
      "text/plain": [
       "     5.1  3.5  1.4  0.2     Iris-setosa\n",
       "0    4.9  3.0  1.4  0.2     Iris-setosa\n",
       "1    4.7  3.2  1.3  0.2     Iris-setosa\n",
       "2    4.6  3.1  1.5  0.2     Iris-setosa\n",
       "3    5.0  3.6  1.4  0.2     Iris-setosa\n",
       "4    5.4  3.9  1.7  0.4     Iris-setosa\n",
       "..   ...  ...  ...  ...             ...\n",
       "144  6.7  3.0  5.2  2.3  Iris-virginica\n",
       "145  6.3  2.5  5.0  1.9  Iris-virginica\n",
       "146  6.5  3.0  5.2  2.0  Iris-virginica\n",
       "147  6.2  3.4  5.4  2.3  Iris-virginica\n",
       "148  5.9  3.0  5.1  1.8  Iris-virginica\n",
       "\n",
       "[149 rows x 5 columns]"
      ]
     },
     "execution_count": 2,
     "metadata": {},
     "output_type": "execute_result"
    }
   ],
   "source": [
    "iris_df = pd.read_csv('iris.csv')\n",
    "iris_df"
   ]
  },
  {
   "cell_type": "code",
   "execution_count": 3,
   "id": "cff2f856",
   "metadata": {},
   "outputs": [
    {
     "data": {
      "text/html": [
       "<div>\n",
       "<style scoped>\n",
       "    .dataframe tbody tr th:only-of-type {\n",
       "        vertical-align: middle;\n",
       "    }\n",
       "\n",
       "    .dataframe tbody tr th {\n",
       "        vertical-align: top;\n",
       "    }\n",
       "\n",
       "    .dataframe thead th {\n",
       "        text-align: right;\n",
       "    }\n",
       "</style>\n",
       "<table border=\"1\" class=\"dataframe\">\n",
       "  <thead>\n",
       "    <tr style=\"text-align: right;\">\n",
       "      <th></th>\n",
       "      <th>sepal_lenght</th>\n",
       "      <th>sepal_width</th>\n",
       "      <th>petal_lenght</th>\n",
       "      <th>petal_width</th>\n",
       "      <th>species</th>\n",
       "    </tr>\n",
       "  </thead>\n",
       "  <tbody>\n",
       "    <tr>\n",
       "      <th>0</th>\n",
       "      <td>4.9</td>\n",
       "      <td>3.0</td>\n",
       "      <td>1.4</td>\n",
       "      <td>0.2</td>\n",
       "      <td>0</td>\n",
       "    </tr>\n",
       "    <tr>\n",
       "      <th>1</th>\n",
       "      <td>4.7</td>\n",
       "      <td>3.2</td>\n",
       "      <td>1.3</td>\n",
       "      <td>0.2</td>\n",
       "      <td>0</td>\n",
       "    </tr>\n",
       "    <tr>\n",
       "      <th>2</th>\n",
       "      <td>4.6</td>\n",
       "      <td>3.1</td>\n",
       "      <td>1.5</td>\n",
       "      <td>0.2</td>\n",
       "      <td>0</td>\n",
       "    </tr>\n",
       "    <tr>\n",
       "      <th>3</th>\n",
       "      <td>5.0</td>\n",
       "      <td>3.6</td>\n",
       "      <td>1.4</td>\n",
       "      <td>0.2</td>\n",
       "      <td>0</td>\n",
       "    </tr>\n",
       "    <tr>\n",
       "      <th>4</th>\n",
       "      <td>5.4</td>\n",
       "      <td>3.9</td>\n",
       "      <td>1.7</td>\n",
       "      <td>0.4</td>\n",
       "      <td>0</td>\n",
       "    </tr>\n",
       "    <tr>\n",
       "      <th>...</th>\n",
       "      <td>...</td>\n",
       "      <td>...</td>\n",
       "      <td>...</td>\n",
       "      <td>...</td>\n",
       "      <td>...</td>\n",
       "    </tr>\n",
       "    <tr>\n",
       "      <th>144</th>\n",
       "      <td>6.7</td>\n",
       "      <td>3.0</td>\n",
       "      <td>5.2</td>\n",
       "      <td>2.3</td>\n",
       "      <td>2</td>\n",
       "    </tr>\n",
       "    <tr>\n",
       "      <th>145</th>\n",
       "      <td>6.3</td>\n",
       "      <td>2.5</td>\n",
       "      <td>5.0</td>\n",
       "      <td>1.9</td>\n",
       "      <td>2</td>\n",
       "    </tr>\n",
       "    <tr>\n",
       "      <th>146</th>\n",
       "      <td>6.5</td>\n",
       "      <td>3.0</td>\n",
       "      <td>5.2</td>\n",
       "      <td>2.0</td>\n",
       "      <td>2</td>\n",
       "    </tr>\n",
       "    <tr>\n",
       "      <th>147</th>\n",
       "      <td>6.2</td>\n",
       "      <td>3.4</td>\n",
       "      <td>5.4</td>\n",
       "      <td>2.3</td>\n",
       "      <td>2</td>\n",
       "    </tr>\n",
       "    <tr>\n",
       "      <th>148</th>\n",
       "      <td>5.9</td>\n",
       "      <td>3.0</td>\n",
       "      <td>5.1</td>\n",
       "      <td>1.8</td>\n",
       "      <td>2</td>\n",
       "    </tr>\n",
       "  </tbody>\n",
       "</table>\n",
       "<p>149 rows × 5 columns</p>\n",
       "</div>"
      ],
      "text/plain": [
       "     sepal_lenght  sepal_width  petal_lenght  petal_width  species\n",
       "0             4.9          3.0           1.4          0.2        0\n",
       "1             4.7          3.2           1.3          0.2        0\n",
       "2             4.6          3.1           1.5          0.2        0\n",
       "3             5.0          3.6           1.4          0.2        0\n",
       "4             5.4          3.9           1.7          0.4        0\n",
       "..            ...          ...           ...          ...      ...\n",
       "144           6.7          3.0           5.2          2.3        2\n",
       "145           6.3          2.5           5.0          1.9        2\n",
       "146           6.5          3.0           5.2          2.0        2\n",
       "147           6.2          3.4           5.4          2.3        2\n",
       "148           5.9          3.0           5.1          1.8        2\n",
       "\n",
       "[149 rows x 5 columns]"
      ]
     },
     "execution_count": 3,
     "metadata": {},
     "output_type": "execute_result"
    }
   ],
   "source": [
    "iris_df.columns= ['sepal_lenght','sepal_width','petal_lenght','petal_width','species']\n",
    "decoder = {\n",
    "    0 : 'Iris-setosa',\n",
    "    1 : 'Iris-versicolor',\n",
    "    2 : 'Iris-virginica'\n",
    "}\n",
    "def converter(specie):\n",
    "    if specie == 'Iris-setosa':\n",
    "        return 0\n",
    "    elif specie == 'Iris-versicolor':\n",
    "        return 1\n",
    "    else:\n",
    "        return 2\n",
    "iris_df['species'] = iris_df['species'].apply(converter)\n",
    "iris_df"
   ]
  },
  {
   "cell_type": "markdown",
   "id": "fcc3f11e",
   "metadata": {},
   "source": [
    "# Tanpa Pembersihan"
   ]
  },
  {
   "cell_type": "markdown",
   "id": "83f01d7d",
   "metadata": {},
   "source": [
    "### Logistic Regression"
   ]
  },
  {
   "cell_type": "code",
   "execution_count": 4,
   "id": "54100889",
   "metadata": {},
   "outputs": [],
   "source": [
    "# Variables\n",
    "X= iris_df.drop(labels= 'species', axis= 1)\n",
    "y= iris_df['species']\n",
    "\n",
    "# Splitting the Dataset \n",
    "def log_regression(X,y):\n",
    "    X_train, X_test, y_train, y_test = train_test_split(X, y, test_size= 0.33, random_state= 101)\n",
    "\n",
    "    classifier = LogisticRegression(random_state = 0)\n",
    "    classifier.fit(X_train, y_train)\n",
    "\n",
    "    y_pred = classifier.predict(X_test)\n",
    "    return y_test , y_pred\n",
    "    # # Evaluating Model's Performance\n",
    "y_test,pred =log_regression(X,y)\n",
    "\n"
   ]
  },
  {
   "cell_type": "code",
   "execution_count": 5,
   "id": "49cfe1e3",
   "metadata": {},
   "outputs": [
    {
     "name": "stdout",
     "output_type": "stream",
     "text": [
      "Confusion Matrix : \n",
      " [[16  0  0]\n",
      " [ 0 19  2]\n",
      " [ 0  1 12]]\n"
     ]
    }
   ],
   "source": [
    "cnf_matrix = confusion_matrix(y_test, pred)\n",
    "  \n",
    "print (\"Confusion Matrix : \\n\", cnf_matrix)"
   ]
  },
  {
   "cell_type": "markdown",
   "id": "3a54629a",
   "metadata": {},
   "source": [
    "#### Iris-Setosa"
   ]
  },
  {
   "cell_type": "code",
   "execution_count": 6,
   "id": "6ef013e8",
   "metadata": {},
   "outputs": [
    {
     "name": "stdout",
     "output_type": "stream",
     "text": [
      "TP= 16\n",
      "FN= 0\n",
      "FP= 0\n",
      "TN= 34\n"
     ]
    }
   ],
   "source": [
    "TP_setosa = cnf_matrix[0][0]\n",
    "FN_setosa = cnf_matrix[0][1]+cnf_matrix[0][2]\n",
    "FP_setosa = cnf_matrix[1][0]+cnf_matrix[2][0]\n",
    "TN_setosa = cnf_matrix[1][1]+cnf_matrix[1][2]+cnf_matrix[2][1]+cnf_matrix[2][2]\n",
    "print('TP=',TP_setosa)\n",
    "print('FN=',FN_setosa)\n",
    "print('FP=',FP_setosa)\n",
    "print('TN=',TN_setosa)"
   ]
  },
  {
   "cell_type": "code",
   "execution_count": 7,
   "id": "ff726968",
   "metadata": {},
   "outputs": [
    {
     "name": "stdout",
     "output_type": "stream",
     "text": [
      "Sensitivity 1.0\n",
      "Specificity 1.0\n",
      "Precision 1.0\n",
      "NPV 1.0\n",
      "Accuracy 1.0\n"
     ]
    }
   ],
   "source": [
    "Sensitivity_setosa = TP_setosa/(TP_setosa+FN_setosa)\n",
    "Specificity_setosa = TN_setosa/(TN_setosa+FP_setosa)\n",
    "Precision_setosa = TP_setosa/(TP_setosa+FP_setosa)\n",
    "NPV_setosa = TN_setosa/(TN_setosa+FN_setosa)\n",
    "Accuracy_setosa = (TP_setosa+TN_setosa)/(TP_setosa+FN_setosa+FP_setosa+TN_setosa)\n",
    "print('Sensitivity',Sensitivity_setosa)\n",
    "print('Specificity',Specificity_setosa)\n",
    "print('Precision',Precision_setosa)\n",
    "print('NPV',NPV_setosa)\n",
    "print('Accuracy',Accuracy_setosa)"
   ]
  },
  {
   "cell_type": "markdown",
   "id": "d086468d",
   "metadata": {},
   "source": [
    "#### Iris-versicolor"
   ]
  },
  {
   "cell_type": "code",
   "execution_count": 8,
   "id": "76eda827",
   "metadata": {},
   "outputs": [
    {
     "name": "stdout",
     "output_type": "stream",
     "text": [
      "TP= 19\n",
      "FN= 2\n",
      "FP= 1\n",
      "TN= 28\n"
     ]
    }
   ],
   "source": [
    "TP_versicolor = cnf_matrix[1][1]\n",
    "FN_versicolor = cnf_matrix[1][0]+cnf_matrix[1][2]\n",
    "FP_versicolor = cnf_matrix[0][1]+cnf_matrix[2][1]\n",
    "TN_versicolor = cnf_matrix[0][0]+cnf_matrix[0][2]+cnf_matrix[2][0]+cnf_matrix[2][2]\n",
    "print('TP=',TP_versicolor)\n",
    "print('FN=',FN_versicolor)\n",
    "print('FP=',FP_versicolor)\n",
    "print('TN=',TN_versicolor)"
   ]
  },
  {
   "cell_type": "code",
   "execution_count": 9,
   "id": "c0f051f4",
   "metadata": {},
   "outputs": [
    {
     "name": "stdout",
     "output_type": "stream",
     "text": [
      "Sensitivity 0.9047619047619048\n",
      "Specificity 0.9655172413793104\n",
      "Precision 0.95\n",
      "NPV 0.9333333333333333\n",
      "Accuracy 0.94\n"
     ]
    }
   ],
   "source": [
    "Sensitivity_versicolor = TP_versicolor/(TP_versicolor+FN_versicolor)\n",
    "Specificity_versicolor = TN_versicolor/(TN_versicolor+FP_versicolor)\n",
    "Precision_versicolor = TP_versicolor/(TP_versicolor+FP_versicolor)\n",
    "NPV_versicolor = TN_versicolor/(TN_versicolor+FN_versicolor)\n",
    "Accuracy_versicolor = (TP_versicolor+TN_versicolor)/(TP_versicolor+FN_versicolor+FP_versicolor+TN_versicolor)\n",
    "print('Sensitivity',Sensitivity_versicolor)\n",
    "print('Specificity',Specificity_versicolor)\n",
    "print('Precision',Precision_versicolor)\n",
    "print('NPV',NPV_versicolor)\n",
    "print('Accuracy',Accuracy_versicolor)"
   ]
  },
  {
   "cell_type": "markdown",
   "id": "0e111668",
   "metadata": {},
   "source": [
    "#### Iris-virginica"
   ]
  },
  {
   "cell_type": "code",
   "execution_count": 10,
   "id": "17c096d8",
   "metadata": {},
   "outputs": [
    {
     "name": "stdout",
     "output_type": "stream",
     "text": [
      "TP= 12\n",
      "FN= 1\n",
      "FP= 2\n",
      "TN= 35\n"
     ]
    }
   ],
   "source": [
    "TP_virginica = cnf_matrix[2][2]\n",
    "FN_virginica = cnf_matrix[2][0]+cnf_matrix[2][1]\n",
    "FP_virginica = cnf_matrix[0][2]+cnf_matrix[1][2]\n",
    "TN_virginica = cnf_matrix[0][0]+cnf_matrix[0][1]+cnf_matrix[1][0]+cnf_matrix[1][1]\n",
    "print('TP=',TP_virginica)\n",
    "print('FN=',FN_virginica)\n",
    "print('FP=',FP_virginica)\n",
    "print('TN=',TN_virginica)"
   ]
  },
  {
   "cell_type": "code",
   "execution_count": 11,
   "id": "ca1098ad",
   "metadata": {},
   "outputs": [
    {
     "name": "stdout",
     "output_type": "stream",
     "text": [
      "Sensitivity 0.9230769230769231\n",
      "Specificity 0.9459459459459459\n",
      "Precision 0.8571428571428571\n",
      "NPV 0.9722222222222222\n",
      "Accuracy 0.94\n"
     ]
    }
   ],
   "source": [
    "Sensitivity_virginica = TP_virginica/(TP_virginica+FN_virginica)\n",
    "Specificity_virginica = TN_virginica/(TN_virginica+FP_virginica)\n",
    "Precision_virginica = TP_virginica/(TP_virginica+FP_virginica)\n",
    "NPV_virginica = TN_virginica/(TN_virginica+FN_virginica)\n",
    "Accuracy_virginica = (TP_virginica+TN_virginica)/(TP_virginica+FN_virginica+FP_virginica+TN_virginica)\n",
    "print('Sensitivity',Sensitivity_virginica)\n",
    "print('Specificity',Specificity_virginica)\n",
    "print('Precision',Precision_virginica)\n",
    "print('NPV',NPV_virginica)\n",
    "print('Accuracy',Accuracy_virginica)"
   ]
  },
  {
   "cell_type": "markdown",
   "id": "74008c9e",
   "metadata": {},
   "source": [
    "### MLP"
   ]
  },
  {
   "cell_type": "code",
   "execution_count": 12,
   "id": "7cf35c70",
   "metadata": {},
   "outputs": [
    {
     "name": "stderr",
     "output_type": "stream",
     "text": [
      "C:\\Users\\jmspa\\anaconda3\\lib\\site-packages\\sklearn\\neural_network\\_multilayer_perceptron.py:702: ConvergenceWarning: Stochastic Optimizer: Maximum iterations (200) reached and the optimization hasn't converged yet.\n",
      "  warnings.warn(\n"
     ]
    }
   ],
   "source": [
    "def mlp(X,y):\n",
    "    X_train,X_test,y_train,y_test=train_test_split(X,y,test_size=0.33)\n",
    "    mlp = MLPClassifier(learning_rate='adaptive',hidden_layer_sizes=(30,))\n",
    "    mlp.fit(X_train,y_train)\n",
    "    y_pred=mlp.predict(X_test)\n",
    "    return y_test,y_pred\n",
    "X= iris_df.drop(labels= 'species', axis= 1)\n",
    "y= iris_df['species']\n",
    "y_test,y_pred=mlp(X,y)\n",
    "# print(y_test,y_pred)"
   ]
  },
  {
   "cell_type": "markdown",
   "id": "db43c27b",
   "metadata": {},
   "source": [
    "### Confusion Matrix"
   ]
  },
  {
   "cell_type": "code",
   "execution_count": 13,
   "id": "a9b23e8f",
   "metadata": {},
   "outputs": [
    {
     "name": "stdout",
     "output_type": "stream",
     "text": [
      "[[16  0  0]\n",
      " [ 0 10  6]\n",
      " [ 0  1 17]]\n"
     ]
    }
   ],
   "source": [
    "cnf_matrix=confusion_matrix(y_test,y_pred)\n",
    "print(cnf_matrix)"
   ]
  },
  {
   "cell_type": "markdown",
   "id": "042dac41",
   "metadata": {},
   "source": [
    "#### Iris-Setosa"
   ]
  },
  {
   "cell_type": "code",
   "execution_count": 14,
   "id": "d26b2563",
   "metadata": {},
   "outputs": [
    {
     "name": "stdout",
     "output_type": "stream",
     "text": [
      "TP= 16\n",
      "FN= 0\n",
      "FP= 0\n",
      "TN= 34\n"
     ]
    }
   ],
   "source": [
    "TP_setosa = cnf_matrix[0][0]\n",
    "FN_setosa = cnf_matrix[0][1]+cnf_matrix[0][2]\n",
    "FP_setosa = cnf_matrix[1][0]+cnf_matrix[2][0]\n",
    "TN_setosa = cnf_matrix[1][1]+cnf_matrix[1][2]+cnf_matrix[2][1]+cnf_matrix[2][2]\n",
    "print('TP=',TP_setosa)\n",
    "print('FN=',FN_setosa)\n",
    "print('FP=',FP_setosa)\n",
    "print('TN=',TN_setosa)"
   ]
  },
  {
   "cell_type": "code",
   "execution_count": 15,
   "id": "616ecf2f",
   "metadata": {},
   "outputs": [
    {
     "name": "stdout",
     "output_type": "stream",
     "text": [
      "Sensitivity 1.0\n",
      "Specificity 1.0\n",
      "Precision 1.0\n",
      "NPV 1.0\n",
      "Accuracy 1.0\n"
     ]
    }
   ],
   "source": [
    "Sensitivity_setosa = TP_setosa/(TP_setosa+FN_setosa)\n",
    "Specificity_setosa = TN_setosa/(TN_setosa+FP_setosa)\n",
    "Precision_setosa = TP_setosa/(TP_setosa+FP_setosa)\n",
    "NPV_setosa = TN_setosa/(TN_setosa+FN_setosa)\n",
    "Accuracy_setosa = (TP_setosa+TN_setosa)/(TP_setosa+FN_setosa+FP_setosa+TN_setosa)\n",
    "print('Sensitivity',Sensitivity_setosa)\n",
    "print('Specificity',Specificity_setosa)\n",
    "print('Precision',Precision_setosa)\n",
    "print('NPV',NPV_setosa)\n",
    "print('Accuracy',Accuracy_setosa)"
   ]
  },
  {
   "cell_type": "markdown",
   "id": "e02f5576",
   "metadata": {},
   "source": [
    "#### Iris-versicolor"
   ]
  },
  {
   "cell_type": "code",
   "execution_count": 16,
   "id": "795e1b12",
   "metadata": {},
   "outputs": [
    {
     "name": "stdout",
     "output_type": "stream",
     "text": [
      "TP= 10\n",
      "FN= 6\n",
      "FP= 1\n",
      "TN= 33\n"
     ]
    }
   ],
   "source": [
    "TP_versicolor = cnf_matrix[1][1]\n",
    "FN_versicolor = cnf_matrix[1][0]+cnf_matrix[1][2]\n",
    "FP_versicolor = cnf_matrix[0][1]+cnf_matrix[2][1]\n",
    "TN_versicolor = cnf_matrix[0][0]+cnf_matrix[0][2]+cnf_matrix[2][0]+cnf_matrix[2][2]\n",
    "print('TP=',TP_versicolor)\n",
    "print('FN=',FN_versicolor)\n",
    "print('FP=',FP_versicolor)\n",
    "print('TN=',TN_versicolor)"
   ]
  },
  {
   "cell_type": "code",
   "execution_count": 17,
   "id": "01d26892",
   "metadata": {},
   "outputs": [
    {
     "name": "stdout",
     "output_type": "stream",
     "text": [
      "Sensitivity 0.625\n",
      "Specificity 0.9705882352941176\n",
      "Precision 0.9090909090909091\n",
      "NPV 0.8461538461538461\n",
      "Accuracy 0.86\n"
     ]
    }
   ],
   "source": [
    "Sensitivity_versicolor = TP_versicolor/(TP_versicolor+FN_versicolor)\n",
    "Specificity_versicolor = TN_versicolor/(TN_versicolor+FP_versicolor)\n",
    "Precision_versicolor = TP_versicolor/(TP_versicolor+FP_versicolor)\n",
    "NPV_versicolor = TN_versicolor/(TN_versicolor+FN_versicolor)\n",
    "Accuracy_versicolor = (TP_versicolor+TN_versicolor)/(TP_versicolor+FN_versicolor+FP_versicolor+TN_versicolor)\n",
    "print('Sensitivity',Sensitivity_versicolor)\n",
    "print('Specificity',Specificity_versicolor)\n",
    "print('Precision',Precision_versicolor)\n",
    "print('NPV',NPV_versicolor)\n",
    "print('Accuracy',Accuracy_versicolor)"
   ]
  },
  {
   "cell_type": "markdown",
   "id": "82a3e598",
   "metadata": {},
   "source": [
    "#### Iris-virginica"
   ]
  },
  {
   "cell_type": "code",
   "execution_count": 18,
   "id": "6caacd5a",
   "metadata": {},
   "outputs": [
    {
     "name": "stdout",
     "output_type": "stream",
     "text": [
      "TP= 17\n",
      "FN= 1\n",
      "FP= 6\n",
      "TN= 26\n"
     ]
    }
   ],
   "source": [
    "TP_virginica = cnf_matrix[2][2]\n",
    "FN_virginica = cnf_matrix[2][0]+cnf_matrix[2][1]\n",
    "FP_virginica = cnf_matrix[0][2]+cnf_matrix[1][2]\n",
    "TN_virginica = cnf_matrix[0][0]+cnf_matrix[0][1]+cnf_matrix[1][0]+cnf_matrix[1][1]\n",
    "print('TP=',TP_virginica)\n",
    "print('FN=',FN_virginica)\n",
    "print('FP=',FP_virginica)\n",
    "print('TN=',TN_virginica)"
   ]
  },
  {
   "cell_type": "code",
   "execution_count": 19,
   "id": "438f207a",
   "metadata": {},
   "outputs": [
    {
     "name": "stdout",
     "output_type": "stream",
     "text": [
      "Sensitivity 0.9444444444444444\n",
      "Specificity 0.8125\n",
      "Precision 0.7391304347826086\n",
      "NPV 0.9629629629629629\n",
      "Accuracy 0.86\n"
     ]
    }
   ],
   "source": [
    "Sensitivity_virginica = TP_virginica/(TP_virginica+FN_virginica)\n",
    "Specificity_virginica = TN_virginica/(TN_virginica+FP_virginica)\n",
    "Precision_virginica = TP_virginica/(TP_virginica+FP_virginica)\n",
    "NPV_virginica = TN_virginica/(TN_virginica+FN_virginica)\n",
    "Accuracy_virginica = (TP_virginica+TN_virginica)/(TP_virginica+FN_virginica+FP_virginica+TN_virginica)\n",
    "print('Sensitivity',Sensitivity_virginica)\n",
    "print('Specificity',Specificity_virginica)\n",
    "print('Precision',Precision_virginica)\n",
    "print('NPV',NPV_virginica)\n",
    "print('Accuracy',Accuracy_virginica)"
   ]
  },
  {
   "cell_type": "markdown",
   "id": "5c4a122e",
   "metadata": {},
   "source": [
    "## Penghapusan data terduplikasi"
   ]
  },
  {
   "cell_type": "markdown",
   "id": "bec38440",
   "metadata": {},
   "source": [
    "### Mendeteksi duplikasi data"
   ]
  },
  {
   "cell_type": "code",
   "execution_count": 20,
   "id": "2cb81f69",
   "metadata": {},
   "outputs": [
    {
     "name": "stdout",
     "output_type": "stream",
     "text": [
      "True\n",
      "     sepal_lenght  sepal_width  petal_lenght  petal_width  species\n",
      "33            4.9          3.1           1.5          0.1        0\n",
      "36            4.9          3.1           1.5          0.1        0\n",
      "141           5.8          2.7           5.1          1.9        2\n"
     ]
    }
   ],
   "source": [
    "dups = iris_df.duplicated()\n",
    "print(dups.any())\n",
    "print(iris_df[dups])"
   ]
  },
  {
   "cell_type": "markdown",
   "id": "4a4134a4",
   "metadata": {},
   "source": [
    "### Menghapus kolom dengan duplikasi data"
   ]
  },
  {
   "cell_type": "code",
   "execution_count": 21,
   "id": "2c3b6f8a",
   "metadata": {},
   "outputs": [
    {
     "name": "stdout",
     "output_type": "stream",
     "text": [
      "(146, 5)\n"
     ]
    }
   ],
   "source": [
    "iris_df.drop_duplicates(inplace=True)\n",
    "print(iris_df.shape)"
   ]
  },
  {
   "cell_type": "markdown",
   "id": "570b1ab6",
   "metadata": {},
   "source": [
    "### Logistic Regression"
   ]
  },
  {
   "cell_type": "code",
   "execution_count": 22,
   "id": "de08a30b",
   "metadata": {},
   "outputs": [],
   "source": [
    "X= iris_df.drop(labels= 'species', axis= 1)\n",
    "y= iris_df['species']\n",
    "y_test,pred =log_regression(X,y)"
   ]
  },
  {
   "cell_type": "code",
   "execution_count": 23,
   "id": "b55e9609",
   "metadata": {},
   "outputs": [
    {
     "name": "stdout",
     "output_type": "stream",
     "text": [
      "Confusion Matrix : \n",
      " [[14  0  0]\n",
      " [ 0 21  1]\n",
      " [ 0  2 11]]\n"
     ]
    }
   ],
   "source": [
    "cm = confusion_matrix(y_test, pred)\n",
    "  \n",
    "print (\"Confusion Matrix : \\n\", cm)"
   ]
  },
  {
   "cell_type": "markdown",
   "id": "fc0172f8",
   "metadata": {},
   "source": [
    "#### Iris-Setosa"
   ]
  },
  {
   "cell_type": "code",
   "execution_count": 24,
   "id": "515c0f5f",
   "metadata": {},
   "outputs": [
    {
     "name": "stdout",
     "output_type": "stream",
     "text": [
      "TP= 16\n",
      "FN= 0\n",
      "FP= 0\n",
      "TN= 34\n"
     ]
    }
   ],
   "source": [
    "TP_setosa = cnf_matrix[0][0]\n",
    "FN_setosa = cnf_matrix[0][1]+cnf_matrix[0][2]\n",
    "FP_setosa = cnf_matrix[1][0]+cnf_matrix[2][0]\n",
    "TN_setosa = cnf_matrix[1][1]+cnf_matrix[1][2]+cnf_matrix[2][1]+cnf_matrix[2][2]\n",
    "print('TP=',TP_setosa)\n",
    "print('FN=',FN_setosa)\n",
    "print('FP=',FP_setosa)\n",
    "print('TN=',TN_setosa)"
   ]
  },
  {
   "cell_type": "code",
   "execution_count": 25,
   "id": "f7135952",
   "metadata": {},
   "outputs": [
    {
     "name": "stdout",
     "output_type": "stream",
     "text": [
      "Sensitivity 1.0\n",
      "Specificity 1.0\n",
      "Precision 1.0\n",
      "NPV 1.0\n",
      "Accuracy 1.0\n"
     ]
    }
   ],
   "source": [
    "Sensitivity_setosa = TP_setosa/(TP_setosa+FN_setosa)\n",
    "Specificity_setosa = TN_setosa/(TN_setosa+FP_setosa)\n",
    "Precision_setosa = TP_setosa/(TP_setosa+FP_setosa)\n",
    "NPV_setosa = TN_setosa/(TN_setosa+FN_setosa)\n",
    "Accuracy_setosa = (TP_setosa+TN_setosa)/(TP_setosa+FN_setosa+FP_setosa+TN_setosa)\n",
    "print('Sensitivity',Sensitivity_setosa)\n",
    "print('Specificity',Specificity_setosa)\n",
    "print('Precision',Precision_setosa)\n",
    "print('NPV',NPV_setosa)\n",
    "print('Accuracy',Accuracy_setosa)"
   ]
  },
  {
   "cell_type": "markdown",
   "id": "19866d2e",
   "metadata": {},
   "source": [
    "#### Iris-versicolor"
   ]
  },
  {
   "cell_type": "code",
   "execution_count": 26,
   "id": "1d7415ba",
   "metadata": {},
   "outputs": [
    {
     "name": "stdout",
     "output_type": "stream",
     "text": [
      "TP= 10\n",
      "FN= 6\n",
      "FP= 1\n",
      "TN= 33\n"
     ]
    }
   ],
   "source": [
    "TP_versicolor = cnf_matrix[1][1]\n",
    "FN_versicolor = cnf_matrix[1][0]+cnf_matrix[1][2]\n",
    "FP_versicolor = cnf_matrix[0][1]+cnf_matrix[2][1]\n",
    "TN_versicolor = cnf_matrix[0][0]+cnf_matrix[0][2]+cnf_matrix[2][0]+cnf_matrix[2][2]\n",
    "print('TP=',TP_versicolor)\n",
    "print('FN=',FN_versicolor)\n",
    "print('FP=',FP_versicolor)\n",
    "print('TN=',TN_versicolor)"
   ]
  },
  {
   "cell_type": "code",
   "execution_count": 27,
   "id": "0cd4a4a3",
   "metadata": {},
   "outputs": [
    {
     "name": "stdout",
     "output_type": "stream",
     "text": [
      "Sensitivity 0.625\n",
      "Specificity 0.9705882352941176\n",
      "Precision 0.9090909090909091\n",
      "NPV 0.8461538461538461\n",
      "Accuracy 0.86\n"
     ]
    }
   ],
   "source": [
    "Sensitivity_versicolor = TP_versicolor/(TP_versicolor+FN_versicolor)\n",
    "Specificity_versicolor = TN_versicolor/(TN_versicolor+FP_versicolor)\n",
    "Precision_versicolor = TP_versicolor/(TP_versicolor+FP_versicolor)\n",
    "NPV_versicolor = TN_versicolor/(TN_versicolor+FN_versicolor)\n",
    "Accuracy_versicolor = (TP_versicolor+TN_versicolor)/(TP_versicolor+FN_versicolor+FP_versicolor+TN_versicolor)\n",
    "print('Sensitivity',Sensitivity_versicolor)\n",
    "print('Specificity',Specificity_versicolor)\n",
    "print('Precision',Precision_versicolor)\n",
    "print('NPV',NPV_versicolor)\n",
    "print('Accuracy',Accuracy_versicolor)"
   ]
  },
  {
   "cell_type": "markdown",
   "id": "2088fc4f",
   "metadata": {},
   "source": [
    "#### Iris-virginica"
   ]
  },
  {
   "cell_type": "code",
   "execution_count": 28,
   "id": "de121fa8",
   "metadata": {},
   "outputs": [
    {
     "name": "stdout",
     "output_type": "stream",
     "text": [
      "TP= 17\n",
      "FN= 1\n",
      "FP= 6\n",
      "TN= 26\n"
     ]
    }
   ],
   "source": [
    "TP_virginica = cnf_matrix[2][2]\n",
    "FN_virginica = cnf_matrix[2][0]+cnf_matrix[2][1]\n",
    "FP_virginica = cnf_matrix[0][2]+cnf_matrix[1][2]\n",
    "TN_virginica = cnf_matrix[0][0]+cnf_matrix[0][1]+cnf_matrix[1][0]+cnf_matrix[1][1]\n",
    "print('TP=',TP_virginica)\n",
    "print('FN=',FN_virginica)\n",
    "print('FP=',FP_virginica)\n",
    "print('TN=',TN_virginica)"
   ]
  },
  {
   "cell_type": "code",
   "execution_count": 29,
   "id": "06362575",
   "metadata": {},
   "outputs": [
    {
     "name": "stdout",
     "output_type": "stream",
     "text": [
      "Sensitivity 0.9444444444444444\n",
      "Specificity 0.8125\n",
      "Precision 0.7391304347826086\n",
      "NPV 0.9629629629629629\n",
      "Accuracy 0.86\n"
     ]
    }
   ],
   "source": [
    "Sensitivity_virginica = TP_virginica/(TP_virginica+FN_virginica)\n",
    "Specificity_virginica = TN_virginica/(TN_virginica+FP_virginica)\n",
    "Precision_virginica = TP_virginica/(TP_virginica+FP_virginica)\n",
    "NPV_virginica = TN_virginica/(TN_virginica+FN_virginica)\n",
    "Accuracy_virginica = (TP_virginica+TN_virginica)/(TP_virginica+FN_virginica+FP_virginica+TN_virginica)\n",
    "print('Sensitivity',Sensitivity_virginica)\n",
    "print('Specificity',Specificity_virginica)\n",
    "print('Precision',Precision_virginica)\n",
    "print('NPV',NPV_virginica)\n",
    "print('Accuracy',Accuracy_virginica)"
   ]
  },
  {
   "cell_type": "markdown",
   "id": "748fe003",
   "metadata": {},
   "source": [
    "### MLP"
   ]
  },
  {
   "cell_type": "code",
   "execution_count": 30,
   "id": "d72c8b50",
   "metadata": {},
   "outputs": [
    {
     "name": "stdout",
     "output_type": "stream",
     "text": [
      "127    2\n",
      "63     1\n",
      "56     1\n",
      "113    2\n",
      "104    2\n",
      "2      0\n",
      "134    2\n",
      "92     1\n",
      "28     0\n",
      "0      0\n",
      "86     1\n",
      "135    2\n",
      "91     1\n",
      "98     1\n",
      "55     1\n",
      "6      0\n",
      "103    2\n",
      "108    2\n",
      "76     1\n",
      "23     0\n",
      "95     1\n",
      "38     0\n",
      "47     0\n",
      "13     0\n",
      "20     0\n",
      "41     0\n",
      "10     0\n",
      "84     1\n",
      "21     0\n",
      "54     1\n",
      "37     0\n",
      "124    2\n",
      "125    2\n",
      "144    2\n",
      "49     1\n",
      "87     1\n",
      "88     1\n",
      "107    2\n",
      "96     1\n",
      "50     1\n",
      "137    2\n",
      "118    2\n",
      "58     1\n",
      "64     1\n",
      "122    2\n",
      "12     0\n",
      "59     1\n",
      "53     1\n",
      "148    2\n",
      "Name: species, dtype: int64 [2 1 1 2 2 0 2 1 0 0 1 2 1 1 2 0 2 2 2 0 1 0 0 0 0 0 0 2 0 2 0 2 2 2 1 1 1\n",
      " 2 1 1 2 2 2 1 2 0 1 1 2]\n"
     ]
    },
    {
     "name": "stderr",
     "output_type": "stream",
     "text": [
      "C:\\Users\\jmspa\\anaconda3\\lib\\site-packages\\sklearn\\neural_network\\_multilayer_perceptron.py:702: ConvergenceWarning: Stochastic Optimizer: Maximum iterations (200) reached and the optimization hasn't converged yet.\n",
      "  warnings.warn(\n"
     ]
    }
   ],
   "source": [
    "X= iris_df.drop(labels= 'species', axis= 1)\n",
    "y= iris_df['species']\n",
    "y_test,y_pred=mlp(X,y)\n",
    "print(y_test,y_pred)"
   ]
  },
  {
   "cell_type": "code",
   "execution_count": 31,
   "id": "4989d4b6",
   "metadata": {},
   "outputs": [
    {
     "name": "stdout",
     "output_type": "stream",
     "text": [
      "[[14  0  0]\n",
      " [ 0 15  5]\n",
      " [ 0  0 15]]\n"
     ]
    }
   ],
   "source": [
    "cnf_matrix=confusion_matrix(y_test,y_pred)\n",
    "print(cnf_matrix)"
   ]
  },
  {
   "cell_type": "markdown",
   "id": "adb6f665",
   "metadata": {},
   "source": [
    "#### Iris-setosa"
   ]
  },
  {
   "cell_type": "code",
   "execution_count": 32,
   "id": "24160844",
   "metadata": {},
   "outputs": [
    {
     "name": "stdout",
     "output_type": "stream",
     "text": [
      "TP= 14\n",
      "FN= 0\n",
      "FP= 0\n",
      "TN= 35\n"
     ]
    }
   ],
   "source": [
    "TP_setosa = cnf_matrix[0][0]\n",
    "FN_setosa = cnf_matrix[0][1]+cnf_matrix[0][2]\n",
    "FP_setosa = cnf_matrix[1][0]+cnf_matrix[2][0]\n",
    "TN_setosa = cnf_matrix[1][1]+cnf_matrix[1][2]+cnf_matrix[2][1]+cnf_matrix[2][2]\n",
    "print('TP=',TP_setosa)\n",
    "print('FN=',FN_setosa)\n",
    "print('FP=',FP_setosa)\n",
    "print('TN=',TN_setosa)"
   ]
  },
  {
   "cell_type": "code",
   "execution_count": 33,
   "id": "604cc645",
   "metadata": {},
   "outputs": [
    {
     "name": "stdout",
     "output_type": "stream",
     "text": [
      "Sensitivity 1.0\n",
      "Specificity 1.0\n",
      "Precision 1.0\n",
      "NPV 1.0\n",
      "Accuracy 1.0\n"
     ]
    }
   ],
   "source": [
    "Sensitivity_setosa = TP_setosa/(TP_setosa+FN_setosa)\n",
    "Specificity_setosa = TN_setosa/(TN_setosa+FP_setosa)\n",
    "Precision_setosa = TP_setosa/(TP_setosa+FP_setosa)\n",
    "NPV_setosa = TN_setosa/(TN_setosa+FN_setosa)\n",
    "Accuracy_setosa = (TP_setosa+TN_setosa)/(TP_setosa+FN_setosa+FP_setosa+TN_setosa)\n",
    "print('Sensitivity',Sensitivity_setosa)\n",
    "print('Specificity',Specificity_setosa)\n",
    "print('Precision',Precision_setosa)\n",
    "print('NPV',NPV_setosa)\n",
    "print('Accuracy',Accuracy_setosa)"
   ]
  },
  {
   "cell_type": "markdown",
   "id": "f3a88fd7",
   "metadata": {},
   "source": [
    "#### Iris-versicolor"
   ]
  },
  {
   "cell_type": "code",
   "execution_count": 34,
   "id": "09803bba",
   "metadata": {},
   "outputs": [
    {
     "name": "stdout",
     "output_type": "stream",
     "text": [
      "TP= 15\n",
      "FN= 5\n",
      "FP= 0\n",
      "TN= 29\n"
     ]
    }
   ],
   "source": [
    "TP_versicolor = cnf_matrix[1][1]\n",
    "FN_versicolor = cnf_matrix[1][0]+cnf_matrix[1][2]\n",
    "FP_versicolor = cnf_matrix[0][1]+cnf_matrix[2][1]\n",
    "TN_versicolor = cnf_matrix[0][0]+cnf_matrix[0][2]+cnf_matrix[2][0]+cnf_matrix[2][2]\n",
    "print('TP=',TP_versicolor)\n",
    "print('FN=',FN_versicolor)\n",
    "print('FP=',FP_versicolor)\n",
    "print('TN=',TN_versicolor)"
   ]
  },
  {
   "cell_type": "code",
   "execution_count": 35,
   "id": "894a17da",
   "metadata": {},
   "outputs": [
    {
     "name": "stdout",
     "output_type": "stream",
     "text": [
      "Sensitivity 0.75\n",
      "Specificity 1.0\n",
      "Precision 1.0\n",
      "NPV 0.8529411764705882\n",
      "Accuracy 0.8979591836734694\n"
     ]
    }
   ],
   "source": [
    "Sensitivity_versicolor = TP_versicolor/(TP_versicolor+FN_versicolor)\n",
    "Specificity_versicolor = TN_versicolor/(TN_versicolor+FP_versicolor)\n",
    "Precision_versicolor = TP_versicolor/(TP_versicolor+FP_versicolor)\n",
    "NPV_versicolor = TN_versicolor/(TN_versicolor+FN_versicolor)\n",
    "Accuracy_versicolor = (TP_versicolor+TN_versicolor)/(TP_versicolor+FN_versicolor+FP_versicolor+TN_versicolor)\n",
    "print('Sensitivity',Sensitivity_versicolor)\n",
    "print('Specificity',Specificity_versicolor)\n",
    "print('Precision',Precision_versicolor)\n",
    "print('NPV',NPV_versicolor)\n",
    "print('Accuracy',Accuracy_versicolor)"
   ]
  },
  {
   "cell_type": "markdown",
   "id": "7a421cb6",
   "metadata": {},
   "source": [
    "#### Iris-virginica"
   ]
  },
  {
   "cell_type": "code",
   "execution_count": 36,
   "id": "2fd76cf0",
   "metadata": {},
   "outputs": [
    {
     "name": "stdout",
     "output_type": "stream",
     "text": [
      "TP= 15\n",
      "FN= 0\n",
      "FP= 5\n",
      "TN= 29\n"
     ]
    }
   ],
   "source": [
    "TP_virginica = cnf_matrix[2][2]\n",
    "FN_virginica = cnf_matrix[2][0]+cnf_matrix[2][1]\n",
    "FP_virginica = cnf_matrix[0][2]+cnf_matrix[1][2]\n",
    "TN_virginica = cnf_matrix[0][0]+cnf_matrix[0][1]+cnf_matrix[1][0]+cnf_matrix[1][1]\n",
    "print('TP=',TP_virginica)\n",
    "print('FN=',FN_virginica)\n",
    "print('FP=',FP_virginica)\n",
    "print('TN=',TN_virginica)"
   ]
  },
  {
   "cell_type": "code",
   "execution_count": 37,
   "id": "e6c3b976",
   "metadata": {},
   "outputs": [
    {
     "name": "stdout",
     "output_type": "stream",
     "text": [
      "Sensitivity 1.0\n",
      "Specificity 0.8529411764705882\n",
      "Precision 0.75\n",
      "NPV 1.0\n",
      "Accuracy 0.8979591836734694\n"
     ]
    }
   ],
   "source": [
    "Sensitivity_virginica = TP_virginica/(TP_virginica+FN_virginica)\n",
    "Specificity_virginica = TN_virginica/(TN_virginica+FP_virginica)\n",
    "Precision_virginica = TP_virginica/(TP_virginica+FP_virginica)\n",
    "NPV_virginica = TN_virginica/(TN_virginica+FN_virginica)\n",
    "Accuracy_virginica = (TP_virginica+TN_virginica)/(TP_virginica+FN_virginica+FP_virginica+TN_virginica)\n",
    "print('Sensitivity',Sensitivity_virginica)\n",
    "print('Specificity',Specificity_virginica)\n",
    "print('Precision',Precision_virginica)\n",
    "print('NPV',NPV_virginica)\n",
    "print('Accuracy',Accuracy_virginica)"
   ]
  },
  {
   "cell_type": "markdown",
   "id": "98f5a974",
   "metadata": {},
   "source": [
    "### Oil-spill Dataset"
   ]
  },
  {
   "cell_type": "code",
   "execution_count": 38,
   "id": "dcb77a3a",
   "metadata": {},
   "outputs": [
    {
     "data": {
      "text/html": [
       "<div>\n",
       "<style scoped>\n",
       "    .dataframe tbody tr th:only-of-type {\n",
       "        vertical-align: middle;\n",
       "    }\n",
       "\n",
       "    .dataframe tbody tr th {\n",
       "        vertical-align: top;\n",
       "    }\n",
       "\n",
       "    .dataframe thead th {\n",
       "        text-align: right;\n",
       "    }\n",
       "</style>\n",
       "<table border=\"1\" class=\"dataframe\">\n",
       "  <thead>\n",
       "    <tr style=\"text-align: right;\">\n",
       "      <th></th>\n",
       "      <th>0</th>\n",
       "      <th>1</th>\n",
       "      <th>2</th>\n",
       "      <th>3</th>\n",
       "      <th>4</th>\n",
       "      <th>5</th>\n",
       "      <th>6</th>\n",
       "      <th>7</th>\n",
       "      <th>8</th>\n",
       "      <th>9</th>\n",
       "      <th>...</th>\n",
       "      <th>40</th>\n",
       "      <th>41</th>\n",
       "      <th>42</th>\n",
       "      <th>43</th>\n",
       "      <th>44</th>\n",
       "      <th>45</th>\n",
       "      <th>46</th>\n",
       "      <th>47</th>\n",
       "      <th>48</th>\n",
       "      <th>spill</th>\n",
       "    </tr>\n",
       "  </thead>\n",
       "  <tbody>\n",
       "    <tr>\n",
       "      <th>0</th>\n",
       "      <td>1</td>\n",
       "      <td>2558</td>\n",
       "      <td>1506.09</td>\n",
       "      <td>456.63</td>\n",
       "      <td>90</td>\n",
       "      <td>6395000.0</td>\n",
       "      <td>40.88</td>\n",
       "      <td>7.89</td>\n",
       "      <td>29780.0</td>\n",
       "      <td>0.19</td>\n",
       "      <td>...</td>\n",
       "      <td>2850.00</td>\n",
       "      <td>1000.00</td>\n",
       "      <td>763.16</td>\n",
       "      <td>135.46</td>\n",
       "      <td>3.73</td>\n",
       "      <td>0</td>\n",
       "      <td>33243.19</td>\n",
       "      <td>65.74</td>\n",
       "      <td>7.95</td>\n",
       "      <td>1</td>\n",
       "    </tr>\n",
       "    <tr>\n",
       "      <th>1</th>\n",
       "      <td>2</td>\n",
       "      <td>22325</td>\n",
       "      <td>79.11</td>\n",
       "      <td>841.03</td>\n",
       "      <td>180</td>\n",
       "      <td>55812500.0</td>\n",
       "      <td>51.11</td>\n",
       "      <td>1.21</td>\n",
       "      <td>61900.0</td>\n",
       "      <td>0.02</td>\n",
       "      <td>...</td>\n",
       "      <td>5750.00</td>\n",
       "      <td>11500.00</td>\n",
       "      <td>9593.48</td>\n",
       "      <td>1648.80</td>\n",
       "      <td>0.60</td>\n",
       "      <td>0</td>\n",
       "      <td>51572.04</td>\n",
       "      <td>65.73</td>\n",
       "      <td>6.26</td>\n",
       "      <td>0</td>\n",
       "    </tr>\n",
       "    <tr>\n",
       "      <th>2</th>\n",
       "      <td>3</td>\n",
       "      <td>115</td>\n",
       "      <td>1449.85</td>\n",
       "      <td>608.43</td>\n",
       "      <td>88</td>\n",
       "      <td>287500.0</td>\n",
       "      <td>40.42</td>\n",
       "      <td>7.34</td>\n",
       "      <td>3340.0</td>\n",
       "      <td>0.18</td>\n",
       "      <td>...</td>\n",
       "      <td>1400.00</td>\n",
       "      <td>250.00</td>\n",
       "      <td>150.00</td>\n",
       "      <td>45.13</td>\n",
       "      <td>9.33</td>\n",
       "      <td>1</td>\n",
       "      <td>31692.84</td>\n",
       "      <td>65.81</td>\n",
       "      <td>7.84</td>\n",
       "      <td>1</td>\n",
       "    </tr>\n",
       "    <tr>\n",
       "      <th>3</th>\n",
       "      <td>4</td>\n",
       "      <td>1201</td>\n",
       "      <td>1562.53</td>\n",
       "      <td>295.65</td>\n",
       "      <td>66</td>\n",
       "      <td>3002500.0</td>\n",
       "      <td>42.40</td>\n",
       "      <td>7.97</td>\n",
       "      <td>18030.0</td>\n",
       "      <td>0.19</td>\n",
       "      <td>...</td>\n",
       "      <td>6041.52</td>\n",
       "      <td>761.58</td>\n",
       "      <td>453.21</td>\n",
       "      <td>144.97</td>\n",
       "      <td>13.33</td>\n",
       "      <td>1</td>\n",
       "      <td>37696.21</td>\n",
       "      <td>65.67</td>\n",
       "      <td>8.07</td>\n",
       "      <td>1</td>\n",
       "    </tr>\n",
       "    <tr>\n",
       "      <th>4</th>\n",
       "      <td>5</td>\n",
       "      <td>312</td>\n",
       "      <td>950.27</td>\n",
       "      <td>440.86</td>\n",
       "      <td>37</td>\n",
       "      <td>780000.0</td>\n",
       "      <td>41.43</td>\n",
       "      <td>7.03</td>\n",
       "      <td>3350.0</td>\n",
       "      <td>0.17</td>\n",
       "      <td>...</td>\n",
       "      <td>1320.04</td>\n",
       "      <td>710.63</td>\n",
       "      <td>512.54</td>\n",
       "      <td>109.16</td>\n",
       "      <td>2.58</td>\n",
       "      <td>0</td>\n",
       "      <td>29038.17</td>\n",
       "      <td>65.66</td>\n",
       "      <td>7.35</td>\n",
       "      <td>0</td>\n",
       "    </tr>\n",
       "    <tr>\n",
       "      <th>...</th>\n",
       "      <td>...</td>\n",
       "      <td>...</td>\n",
       "      <td>...</td>\n",
       "      <td>...</td>\n",
       "      <td>...</td>\n",
       "      <td>...</td>\n",
       "      <td>...</td>\n",
       "      <td>...</td>\n",
       "      <td>...</td>\n",
       "      <td>...</td>\n",
       "      <td>...</td>\n",
       "      <td>...</td>\n",
       "      <td>...</td>\n",
       "      <td>...</td>\n",
       "      <td>...</td>\n",
       "      <td>...</td>\n",
       "      <td>...</td>\n",
       "      <td>...</td>\n",
       "      <td>...</td>\n",
       "      <td>...</td>\n",
       "      <td>...</td>\n",
       "    </tr>\n",
       "    <tr>\n",
       "      <th>932</th>\n",
       "      <td>200</td>\n",
       "      <td>12</td>\n",
       "      <td>92.42</td>\n",
       "      <td>364.42</td>\n",
       "      <td>135</td>\n",
       "      <td>97200.0</td>\n",
       "      <td>59.42</td>\n",
       "      <td>10.34</td>\n",
       "      <td>884.0</td>\n",
       "      <td>0.17</td>\n",
       "      <td>...</td>\n",
       "      <td>381.84</td>\n",
       "      <td>254.56</td>\n",
       "      <td>84.85</td>\n",
       "      <td>146.97</td>\n",
       "      <td>4.50</td>\n",
       "      <td>0</td>\n",
       "      <td>2593.50</td>\n",
       "      <td>65.85</td>\n",
       "      <td>6.39</td>\n",
       "      <td>0</td>\n",
       "    </tr>\n",
       "    <tr>\n",
       "      <th>933</th>\n",
       "      <td>201</td>\n",
       "      <td>11</td>\n",
       "      <td>98.82</td>\n",
       "      <td>248.64</td>\n",
       "      <td>159</td>\n",
       "      <td>89100.0</td>\n",
       "      <td>59.64</td>\n",
       "      <td>10.18</td>\n",
       "      <td>831.0</td>\n",
       "      <td>0.17</td>\n",
       "      <td>...</td>\n",
       "      <td>284.60</td>\n",
       "      <td>180.00</td>\n",
       "      <td>150.00</td>\n",
       "      <td>51.96</td>\n",
       "      <td>1.90</td>\n",
       "      <td>0</td>\n",
       "      <td>4361.25</td>\n",
       "      <td>65.70</td>\n",
       "      <td>6.53</td>\n",
       "      <td>0</td>\n",
       "    </tr>\n",
       "    <tr>\n",
       "      <th>934</th>\n",
       "      <td>202</td>\n",
       "      <td>14</td>\n",
       "      <td>25.14</td>\n",
       "      <td>428.86</td>\n",
       "      <td>24</td>\n",
       "      <td>113400.0</td>\n",
       "      <td>60.14</td>\n",
       "      <td>17.94</td>\n",
       "      <td>847.0</td>\n",
       "      <td>0.30</td>\n",
       "      <td>...</td>\n",
       "      <td>402.49</td>\n",
       "      <td>180.00</td>\n",
       "      <td>180.00</td>\n",
       "      <td>0.00</td>\n",
       "      <td>2.24</td>\n",
       "      <td>0</td>\n",
       "      <td>2153.05</td>\n",
       "      <td>65.91</td>\n",
       "      <td>6.12</td>\n",
       "      <td>0</td>\n",
       "    </tr>\n",
       "    <tr>\n",
       "      <th>935</th>\n",
       "      <td>203</td>\n",
       "      <td>10</td>\n",
       "      <td>96.00</td>\n",
       "      <td>451.30</td>\n",
       "      <td>68</td>\n",
       "      <td>81000.0</td>\n",
       "      <td>59.90</td>\n",
       "      <td>15.01</td>\n",
       "      <td>831.0</td>\n",
       "      <td>0.25</td>\n",
       "      <td>...</td>\n",
       "      <td>402.49</td>\n",
       "      <td>180.00</td>\n",
       "      <td>90.00</td>\n",
       "      <td>73.48</td>\n",
       "      <td>4.47</td>\n",
       "      <td>0</td>\n",
       "      <td>2421.43</td>\n",
       "      <td>65.97</td>\n",
       "      <td>6.32</td>\n",
       "      <td>0</td>\n",
       "    </tr>\n",
       "    <tr>\n",
       "      <th>936</th>\n",
       "      <td>204</td>\n",
       "      <td>11</td>\n",
       "      <td>7.73</td>\n",
       "      <td>235.73</td>\n",
       "      <td>135</td>\n",
       "      <td>89100.0</td>\n",
       "      <td>61.82</td>\n",
       "      <td>12.24</td>\n",
       "      <td>831.0</td>\n",
       "      <td>0.20</td>\n",
       "      <td>...</td>\n",
       "      <td>254.56</td>\n",
       "      <td>254.56</td>\n",
       "      <td>127.28</td>\n",
       "      <td>180.00</td>\n",
       "      <td>2.00</td>\n",
       "      <td>0</td>\n",
       "      <td>3782.68</td>\n",
       "      <td>65.65</td>\n",
       "      <td>6.26</td>\n",
       "      <td>0</td>\n",
       "    </tr>\n",
       "  </tbody>\n",
       "</table>\n",
       "<p>937 rows × 50 columns</p>\n",
       "</div>"
      ],
      "text/plain": [
       "       0      1        2       3    4           5      6      7        8  \\\n",
       "0      1   2558  1506.09  456.63   90   6395000.0  40.88   7.89  29780.0   \n",
       "1      2  22325    79.11  841.03  180  55812500.0  51.11   1.21  61900.0   \n",
       "2      3    115  1449.85  608.43   88    287500.0  40.42   7.34   3340.0   \n",
       "3      4   1201  1562.53  295.65   66   3002500.0  42.40   7.97  18030.0   \n",
       "4      5    312   950.27  440.86   37    780000.0  41.43   7.03   3350.0   \n",
       "..   ...    ...      ...     ...  ...         ...    ...    ...      ...   \n",
       "932  200     12    92.42  364.42  135     97200.0  59.42  10.34    884.0   \n",
       "933  201     11    98.82  248.64  159     89100.0  59.64  10.18    831.0   \n",
       "934  202     14    25.14  428.86   24    113400.0  60.14  17.94    847.0   \n",
       "935  203     10    96.00  451.30   68     81000.0  59.90  15.01    831.0   \n",
       "936  204     11     7.73  235.73  135     89100.0  61.82  12.24    831.0   \n",
       "\n",
       "        9  ...       40        41       42       43     44  45        46  \\\n",
       "0    0.19  ...  2850.00   1000.00   763.16   135.46   3.73   0  33243.19   \n",
       "1    0.02  ...  5750.00  11500.00  9593.48  1648.80   0.60   0  51572.04   \n",
       "2    0.18  ...  1400.00    250.00   150.00    45.13   9.33   1  31692.84   \n",
       "3    0.19  ...  6041.52    761.58   453.21   144.97  13.33   1  37696.21   \n",
       "4    0.17  ...  1320.04    710.63   512.54   109.16   2.58   0  29038.17   \n",
       "..    ...  ...      ...       ...      ...      ...    ...  ..       ...   \n",
       "932  0.17  ...   381.84    254.56    84.85   146.97   4.50   0   2593.50   \n",
       "933  0.17  ...   284.60    180.00   150.00    51.96   1.90   0   4361.25   \n",
       "934  0.30  ...   402.49    180.00   180.00     0.00   2.24   0   2153.05   \n",
       "935  0.25  ...   402.49    180.00    90.00    73.48   4.47   0   2421.43   \n",
       "936  0.20  ...   254.56    254.56   127.28   180.00   2.00   0   3782.68   \n",
       "\n",
       "        47    48  spill  \n",
       "0    65.74  7.95      1  \n",
       "1    65.73  6.26      0  \n",
       "2    65.81  7.84      1  \n",
       "3    65.67  8.07      1  \n",
       "4    65.66  7.35      0  \n",
       "..     ...   ...    ...  \n",
       "932  65.85  6.39      0  \n",
       "933  65.70  6.53      0  \n",
       "934  65.91  6.12      0  \n",
       "935  65.97  6.32      0  \n",
       "936  65.65  6.26      0  \n",
       "\n",
       "[937 rows x 50 columns]"
      ]
     },
     "execution_count": 38,
     "metadata": {},
     "output_type": "execute_result"
    }
   ],
   "source": [
    "df_oil = pd.read_csv('oil-spill.csv',header=None)\n",
    "df_oil.rename(columns = {49:'spill'}, \n",
    "            inplace = True)\n",
    "df_oil"
   ]
  },
  {
   "cell_type": "markdown",
   "id": "f174ccf5",
   "metadata": {},
   "source": [
    "### Mendeteksi jumlah nilai unik di setiap kolom dengan nunique"
   ]
  },
  {
   "cell_type": "code",
   "execution_count": 39,
   "id": "7a782738",
   "metadata": {},
   "outputs": [
    {
     "name": "stdout",
     "output_type": "stream",
     "text": [
      "0        238\n",
      "1        297\n",
      "2        927\n",
      "3        933\n",
      "4        179\n",
      "5        375\n",
      "6        820\n",
      "7        618\n",
      "8        561\n",
      "9         57\n",
      "10       577\n",
      "11        59\n",
      "12        73\n",
      "13       107\n",
      "14        53\n",
      "15        91\n",
      "16       893\n",
      "17       810\n",
      "18       170\n",
      "19        53\n",
      "20        68\n",
      "21         9\n",
      "22         1\n",
      "23        92\n",
      "24         9\n",
      "25         8\n",
      "26         9\n",
      "27       308\n",
      "28       447\n",
      "29       392\n",
      "30       107\n",
      "31        42\n",
      "32         4\n",
      "33        45\n",
      "34       141\n",
      "35       110\n",
      "36         3\n",
      "37       758\n",
      "38         9\n",
      "39         9\n",
      "40       388\n",
      "41       220\n",
      "42       644\n",
      "43       649\n",
      "44       499\n",
      "45         2\n",
      "46       937\n",
      "47       169\n",
      "48       286\n",
      "spill      2\n",
      "dtype: int64\n"
     ]
    }
   ],
   "source": [
    "print(df_oil.nunique())"
   ]
  },
  {
   "cell_type": "markdown",
   "id": "b8b25270",
   "metadata": {},
   "source": [
    "### Logistic Regression"
   ]
  },
  {
   "cell_type": "code",
   "execution_count": 40,
   "id": "25329c6b",
   "metadata": {},
   "outputs": [
    {
     "name": "stderr",
     "output_type": "stream",
     "text": [
      "C:\\Users\\jmspa\\anaconda3\\lib\\site-packages\\sklearn\\linear_model\\_logistic.py:444: ConvergenceWarning: lbfgs failed to converge (status=1):\n",
      "STOP: TOTAL NO. of ITERATIONS REACHED LIMIT.\n",
      "\n",
      "Increase the number of iterations (max_iter) or scale the data as shown in:\n",
      "    https://scikit-learn.org/stable/modules/preprocessing.html\n",
      "Please also refer to the documentation for alternative solver options:\n",
      "    https://scikit-learn.org/stable/modules/linear_model.html#logistic-regression\n",
      "  n_iter_i = _check_optimize_result(\n"
     ]
    }
   ],
   "source": [
    "X= df_oil.drop(labels= 'spill',axis=1)\n",
    "y= df_oil['spill']\n",
    "y_test,pred =log_regression(X,y)"
   ]
  },
  {
   "cell_type": "code",
   "execution_count": 41,
   "id": "5b39a098",
   "metadata": {},
   "outputs": [
    {
     "name": "stdout",
     "output_type": "stream",
     "text": [
      "[[293   3]\n",
      " [ 12   2]]\n"
     ]
    }
   ],
   "source": [
    "cnf_matrix=confusion_matrix(y_test,pred)\n",
    "print(cnf_matrix)"
   ]
  },
  {
   "cell_type": "code",
   "execution_count": 42,
   "id": "53688e32",
   "metadata": {},
   "outputs": [
    {
     "name": "stdout",
     "output_type": "stream",
     "text": [
      "Sensitivity= 0.9898648648648649\n",
      "Specificity= 0.14285714285714285\n",
      "Precision= 0.9606557377049181\n",
      "NPV= 0.4\n",
      "Accuracy= 0.9516129032258065\n"
     ]
    }
   ],
   "source": [
    "def analyse(cnf_matrix):\n",
    "    Sensitivity = cnf_matrix[0][0]/(cnf_matrix[0][0]+cnf_matrix[0][1])\n",
    "    Specificity = cnf_matrix[1][1]/(cnf_matrix[1][1]+cnf_matrix[1][0])\n",
    "    Precision = cnf_matrix[0][0]/(cnf_matrix[0][0]+cnf_matrix[1][0])\n",
    "    NPV = cnf_matrix[1][1]/(cnf_matrix[1][1]+cnf_matrix[0][1])\n",
    "    Accuracy = (cnf_matrix[1][1]+cnf_matrix[0][0])/(cnf_matrix[1][1]+cnf_matrix[0][0]+cnf_matrix[0][1]+cnf_matrix[1][0])\n",
    "    return Sensitivity,Specificity,Precision,NPV,Accuracy\n",
    "\n",
    "Sensitivity,Specificity,Precision,NPV,Accuracy = analyse(cnf_matrix)\n",
    "print('Sensitivity=',Sensitivity)\n",
    "print('Specificity=',Specificity)\n",
    "print('Precision=',Precision)\n",
    "print('NPV=',NPV)\n",
    "print('Accuracy=',Accuracy)"
   ]
  },
  {
   "cell_type": "markdown",
   "id": "f562a219",
   "metadata": {},
   "source": [
    "### MLP"
   ]
  },
  {
   "cell_type": "code",
   "execution_count": 43,
   "id": "9ae1c4e1",
   "metadata": {},
   "outputs": [
    {
     "name": "stdout",
     "output_type": "stream",
     "text": [
      "188    0\n",
      "23     0\n",
      "376    0\n",
      "544    0\n",
      "603    0\n",
      "      ..\n",
      "247    0\n",
      "288    0\n",
      "436    0\n",
      "56     0\n",
      "216    0\n",
      "Name: spill, Length: 310, dtype: int64 [0 0 0 0 0 0 0 0 0 0 0 0 0 0 0 0 0 0 0 0 0 0 0 0 0 0 0 0 0 0 0 0 0 0 0 0 0\n",
      " 0 0 0 0 0 0 0 0 0 0 0 0 0 0 0 0 0 0 0 0 0 0 0 0 0 0 0 0 0 0 0 0 0 0 0 0 0\n",
      " 0 0 0 0 0 0 0 0 0 0 0 0 0 0 0 0 0 0 0 0 0 0 0 0 0 0 0 0 0 0 0 0 0 0 0 0 0\n",
      " 0 0 0 0 0 0 0 0 0 0 0 0 0 0 0 0 0 0 0 0 0 0 0 0 0 0 0 0 0 0 0 0 0 0 0 0 0\n",
      " 0 0 0 0 0 0 0 0 0 0 0 0 0 0 0 0 0 0 0 0 0 0 0 0 0 0 0 0 0 0 0 0 0 0 0 0 0\n",
      " 0 0 0 0 0 0 0 0 0 0 0 0 0 0 0 0 0 0 0 0 0 0 0 0 0 0 0 0 0 0 0 0 0 0 0 0 0\n",
      " 0 0 0 0 0 0 0 0 0 0 0 0 0 0 0 0 0 0 0 0 0 0 0 0 0 0 0 0 0 0 0 0 0 0 0 0 0\n",
      " 0 0 0 0 0 0 0 0 0 0 0 0 0 0 0 0 0 0 0 0 0 0 0 0 0 0 0 0 0 0 0 0 0 0 0 0 0\n",
      " 0 0 0 0 0 0 0 0 0 0 0 0 0 0]\n"
     ]
    }
   ],
   "source": [
    "y_test,y_pred=mlp(X,y)\n",
    "print(y_test,y_pred)"
   ]
  },
  {
   "cell_type": "code",
   "execution_count": 44,
   "id": "2e909cec",
   "metadata": {},
   "outputs": [
    {
     "name": "stdout",
     "output_type": "stream",
     "text": [
      "[[295   5]\n",
      " [ 10   0]]\n"
     ]
    }
   ],
   "source": [
    "cnf_matrix=confusion_matrix(y_test,pred)\n",
    "print(cnf_matrix)"
   ]
  },
  {
   "cell_type": "code",
   "execution_count": 45,
   "id": "7cc3eed5",
   "metadata": {},
   "outputs": [
    {
     "name": "stdout",
     "output_type": "stream",
     "text": [
      "Sensitivity= 0.9833333333333333\n",
      "Specificity= 0.0\n",
      "Precision= 0.9672131147540983\n",
      "NPV= 0.0\n",
      "Accuracy= 0.9516129032258065\n"
     ]
    }
   ],
   "source": [
    "Sensitivity,Specificity,Precision,NPV,Accuracy = analyse(cnf_matrix)\n",
    "print('Sensitivity=',Sensitivity)\n",
    "print('Specificity=',Specificity)\n",
    "print('Precision=',Precision)\n",
    "print('NPV=',NPV)\n",
    "print('Accuracy=',Accuracy)"
   ]
  },
  {
   "cell_type": "markdown",
   "id": "d9c1ff2a",
   "metadata": {},
   "source": [
    "### Menghapus kolom dengan hanya satu nilai unik"
   ]
  },
  {
   "cell_type": "code",
   "execution_count": 46,
   "id": "46ad01d3",
   "metadata": {},
   "outputs": [
    {
     "name": "stdout",
     "output_type": "stream",
     "text": [
      "[22]\n",
      "(937, 50)\n",
      "(937, 49)\n"
     ]
    }
   ],
   "source": [
    "counts = df_oil.nunique()\n",
    "# record columns to delete\n",
    "to_del = [i for i,v in enumerate(counts) if v == 1]\n",
    "print(to_del)\n",
    "# drop useless columns\n",
    "print(df_oil.shape)\n",
    "for i in to_del: \n",
    "    df_oil.drop(i, axis=1, inplace=True)\n",
    "    print(df_oil.shape)"
   ]
  },
  {
   "cell_type": "markdown",
   "id": "72d6378f",
   "metadata": {},
   "source": [
    "### Logistic Regression"
   ]
  },
  {
   "cell_type": "code",
   "execution_count": 47,
   "id": "ec7b3958",
   "metadata": {},
   "outputs": [
    {
     "name": "stderr",
     "output_type": "stream",
     "text": [
      "C:\\Users\\jmspa\\anaconda3\\lib\\site-packages\\sklearn\\linear_model\\_logistic.py:444: ConvergenceWarning: lbfgs failed to converge (status=1):\n",
      "STOP: TOTAL NO. of ITERATIONS REACHED LIMIT.\n",
      "\n",
      "Increase the number of iterations (max_iter) or scale the data as shown in:\n",
      "    https://scikit-learn.org/stable/modules/preprocessing.html\n",
      "Please also refer to the documentation for alternative solver options:\n",
      "    https://scikit-learn.org/stable/modules/linear_model.html#logistic-regression\n",
      "  n_iter_i = _check_optimize_result(\n"
     ]
    }
   ],
   "source": [
    "X= df_oil.drop(labels= 'spill',axis=1)\n",
    "y= df_oil['spill']\n",
    "y_test,pred =log_regression(X,y)"
   ]
  },
  {
   "cell_type": "code",
   "execution_count": 48,
   "id": "ee5abf39",
   "metadata": {},
   "outputs": [
    {
     "name": "stdout",
     "output_type": "stream",
     "text": [
      "[[293   3]\n",
      " [ 12   2]]\n"
     ]
    }
   ],
   "source": [
    "cnf_matrix=confusion_matrix(y_test,pred)\n",
    "print(cnf_matrix)"
   ]
  },
  {
   "cell_type": "code",
   "execution_count": 49,
   "id": "f7787858",
   "metadata": {},
   "outputs": [
    {
     "name": "stdout",
     "output_type": "stream",
     "text": [
      "Sensitivity= 0.9898648648648649\n",
      "Specificity= 0.14285714285714285\n",
      "Precision= 0.9606557377049181\n",
      "NPV= 0.4\n",
      "Accuracy= 0.9516129032258065\n"
     ]
    }
   ],
   "source": [
    "Sensitivity,Specificity,Precision,NPV,Accuracy = analyse(cnf_matrix)\n",
    "print('Sensitivity=',Sensitivity)\n",
    "print('Specificity=',Specificity)\n",
    "print('Precision=',Precision)\n",
    "print('NPV=',NPV)\n",
    "print('Accuracy=',Accuracy)"
   ]
  },
  {
   "cell_type": "markdown",
   "id": "94e542f5",
   "metadata": {},
   "source": [
    "### MLP"
   ]
  },
  {
   "cell_type": "code",
   "execution_count": 50,
   "id": "ff0297ad",
   "metadata": {},
   "outputs": [
    {
     "name": "stdout",
     "output_type": "stream",
     "text": [
      "406    0\n",
      "442    0\n",
      "215    0\n",
      "888    0\n",
      "824    0\n",
      "      ..\n",
      "643    0\n",
      "201    0\n",
      "203    0\n",
      "99     0\n",
      "678    0\n",
      "Name: spill, Length: 310, dtype: int64 [0 0 0 0 0 0 0 0 0 0 0 0 0 0 0 0 0 0 0 0 0 0 0 0 0 0 0 0 0 1 0 0 0 0 0 0 1\n",
      " 0 0 0 0 1 0 0 0 0 0 0 0 1 1 1 0 1 0 0 0 0 0 0 0 0 0 0 0 0 0 0 0 0 0 0 0 0\n",
      " 0 0 0 1 0 0 0 0 0 1 0 0 0 0 1 0 0 0 0 0 0 0 0 0 0 0 1 1 0 0 1 0 0 0 0 0 1\n",
      " 1 0 0 1 1 0 0 0 1 0 0 0 0 0 0 1 0 0 1 0 0 0 0 0 0 1 0 0 0 0 0 0 0 0 1 0 0\n",
      " 0 0 0 0 0 0 0 1 0 0 0 0 1 0 0 0 0 0 0 0 0 1 0 0 1 0 0 0 0 0 0 0 0 0 0 0 0\n",
      " 0 0 0 0 0 0 0 1 0 0 0 0 0 0 0 0 0 0 1 0 0 0 0 0 1 0 0 0 0 0 0 0 0 0 0 1 0\n",
      " 0 0 0 0 0 0 1 1 0 0 0 0 0 0 0 0 1 0 0 0 0 0 0 0 0 1 0 0 0 0 0 0 0 0 0 0 0\n",
      " 0 0 0 0 0 0 0 1 0 0 0 0 0 0 0 0 1 0 0 0 0 0 0 0 0 0 0 0 0 1 0 0 0 0 0 0 0\n",
      " 1 0 0 1 1 0 0 0 0 0 1 0 0 0]\n"
     ]
    }
   ],
   "source": [
    "y_test,y_pred=mlp(X,y)\n",
    "print(y_test,y_pred)"
   ]
  },
  {
   "cell_type": "code",
   "execution_count": 51,
   "id": "8389300c",
   "metadata": {},
   "outputs": [
    {
     "name": "stdout",
     "output_type": "stream",
     "text": [
      "[[293   5]\n",
      " [ 12   0]]\n"
     ]
    }
   ],
   "source": [
    "cnf_matrix=confusion_matrix(y_test,pred)\n",
    "print(cnf_matrix)"
   ]
  },
  {
   "cell_type": "code",
   "execution_count": 52,
   "id": "ba717b7e",
   "metadata": {},
   "outputs": [
    {
     "name": "stdout",
     "output_type": "stream",
     "text": [
      "Sensitivity= 0.9832214765100671\n",
      "Specificity= 0.0\n",
      "Precision= 0.9606557377049181\n",
      "NPV= 0.0\n",
      "Accuracy= 0.9451612903225807\n"
     ]
    }
   ],
   "source": [
    "Sensitivity,Specificity,Precision,NPV,Accuracy = analyse(cnf_matrix)\n",
    "print('Sensitivity=',Sensitivity)\n",
    "print('Specificity=',Specificity)\n",
    "print('Precision=',Precision)\n",
    "print('NPV=',NPV)\n",
    "print('Accuracy=',Accuracy)"
   ]
  },
  {
   "cell_type": "markdown",
   "id": "f00b9795",
   "metadata": {},
   "source": [
    "### Menghitung presentasi nilai unik di setiap kolom"
   ]
  },
  {
   "cell_type": "code",
   "execution_count": 53,
   "id": "d4fab2a2",
   "metadata": {},
   "outputs": [
    {
     "name": "stdout",
     "output_type": "stream",
     "text": [
      "0  238, 25.4%\n",
      "1  297, 31.7%\n",
      "2  927, 98.9%\n",
      "3  933, 99.6%\n",
      "4  179, 19.1%\n",
      "5  375, 40.0%\n",
      "6  820, 87.5%\n",
      "7  618, 66.0%\n",
      "8  561, 59.9%\n",
      "9  57, 6.1%\n",
      "10  577, 61.6%\n",
      "11  59, 6.3%\n",
      "12  73, 7.8%\n",
      "13  107, 11.4%\n",
      "14  53, 5.7%\n",
      "15  91, 9.7%\n",
      "16  893, 95.3%\n",
      "17  810, 86.4%\n",
      "18  170, 18.1%\n",
      "19  53, 5.7%\n",
      "20  68, 7.3%\n",
      "21  9, 1.0%\n",
      "22  1, 0.1%\n",
      "23  92, 9.8%\n",
      "24  9, 1.0%\n",
      "25  8, 0.9%\n",
      "26  9, 1.0%\n",
      "27  308, 32.9%\n",
      "28  447, 47.7%\n",
      "29  392, 41.8%\n",
      "30  107, 11.4%\n",
      "31  42, 4.5%\n",
      "32  4, 0.4%\n",
      "33  45, 4.8%\n",
      "34  141, 15.0%\n",
      "35  110, 11.7%\n",
      "36  3, 0.3%\n",
      "37  758, 80.9%\n",
      "38  9, 1.0%\n",
      "39  9, 1.0%\n",
      "40  388, 41.4%\n",
      "41  220, 23.5%\n",
      "42  644, 68.7%\n",
      "43  649, 69.3%\n",
      "44  499, 53.3%\n",
      "45  2, 0.2%\n",
      "46  937, 100.0%\n",
      "47  169, 18.0%\n",
      "48  286, 30.5%\n",
      "49  2, 0.2%\n"
     ]
    }
   ],
   "source": [
    "df_oil = pd.read_csv('oil-spill.csv',header=None)\n",
    "\n",
    "for i in list(df_oil):\n",
    "\tnum = len(pd.unique(df_oil[i]))\n",
    "\tpercentage = float(num) / df_oil.shape[0] * 100\n",
    "\tprint(i,' %d, %.1f%%' % (num, percentage))"
   ]
  },
  {
   "cell_type": "markdown",
   "id": "8822d720",
   "metadata": {},
   "source": [
    "### Mendeteksi kolom dengan presentasi nilai unik dibawah 1 persen"
   ]
  },
  {
   "cell_type": "code",
   "execution_count": 54,
   "id": "19fbac98",
   "metadata": {},
   "outputs": [
    {
     "name": "stdout",
     "output_type": "stream",
     "text": [
      "21  9, 1.0%\n",
      "22  1, 0.1%\n",
      "24  9, 1.0%\n",
      "25  8, 0.9%\n",
      "26  9, 1.0%\n",
      "32  4, 0.4%\n",
      "36  3, 0.3%\n",
      "38  9, 1.0%\n",
      "39  9, 1.0%\n",
      "45  2, 0.2%\n",
      "49  2, 0.2%\n"
     ]
    }
   ],
   "source": [
    "for i in list(df_oil):\n",
    "    num = len(pd.unique(df_oil[i]))\n",
    "    percentage = float(num) / df_oil.shape[0] * 100\n",
    "    if percentage < 1:\n",
    "        print(i,' %d, %.1f%%' % (num, percentage))"
   ]
  },
  {
   "cell_type": "markdown",
   "id": "0ea1e1d0",
   "metadata": {},
   "source": [
    "### Menghapus kolom dengan nilai unik dibawah 1 persen"
   ]
  },
  {
   "cell_type": "code",
   "execution_count": 55,
   "id": "c2cb6717",
   "metadata": {},
   "outputs": [
    {
     "name": "stdout",
     "output_type": "stream",
     "text": [
      "[21, 22, 24, 25, 26, 32, 36, 38, 39, 45, 49]\n",
      "(937, 40)\n"
     ]
    }
   ],
   "source": [
    "counts = df_oil.nunique()\n",
    "# record columns to delete\n",
    "to_del = [i for i,v in enumerate(counts) if (float(v)/df_oil.shape[0]*100) < 1]\n",
    "print(to_del)\n",
    "# drop useless columns\n",
    "df_oil.drop(to_del[:-1], axis=1, inplace=True)\n",
    "print(df_oil.shape)"
   ]
  },
  {
   "cell_type": "markdown",
   "id": "2867dc1f",
   "metadata": {},
   "source": [
    "### Logistic Regression"
   ]
  },
  {
   "cell_type": "code",
   "execution_count": 56,
   "id": "c1d228b8",
   "metadata": {},
   "outputs": [
    {
     "name": "stderr",
     "output_type": "stream",
     "text": [
      "C:\\Users\\jmspa\\anaconda3\\lib\\site-packages\\sklearn\\linear_model\\_logistic.py:444: ConvergenceWarning: lbfgs failed to converge (status=1):\n",
      "STOP: TOTAL NO. of ITERATIONS REACHED LIMIT.\n",
      "\n",
      "Increase the number of iterations (max_iter) or scale the data as shown in:\n",
      "    https://scikit-learn.org/stable/modules/preprocessing.html\n",
      "Please also refer to the documentation for alternative solver options:\n",
      "    https://scikit-learn.org/stable/modules/linear_model.html#logistic-regression\n",
      "  n_iter_i = _check_optimize_result(\n"
     ]
    }
   ],
   "source": [
    "df_oil.rename(columns = {49:'spill'}, \n",
    "            inplace = True)\n",
    "X= df_oil.drop(labels= 'spill',axis=1)\n",
    "y= df_oil['spill']\n",
    "y_test,pred =log_regression(X,y)"
   ]
  },
  {
   "cell_type": "code",
   "execution_count": 57,
   "id": "e234f241",
   "metadata": {},
   "outputs": [
    {
     "name": "stdout",
     "output_type": "stream",
     "text": [
      "[[293   3]\n",
      " [ 12   2]]\n"
     ]
    }
   ],
   "source": [
    "cnf_matrix=confusion_matrix(y_test,pred)\n",
    "print(cnf_matrix)"
   ]
  },
  {
   "cell_type": "code",
   "execution_count": 58,
   "id": "df9e1ec3",
   "metadata": {},
   "outputs": [
    {
     "name": "stdout",
     "output_type": "stream",
     "text": [
      "Sensitivity= 0.9898648648648649\n",
      "Specificity= 0.14285714285714285\n",
      "Precision= 0.9606557377049181\n",
      "NPV= 0.4\n",
      "Accuracy= 0.9516129032258065\n"
     ]
    }
   ],
   "source": [
    "Sensitivity,Specificity,Precision,NPV,Accuracy = analyse(cnf_matrix)\n",
    "print('Sensitivity=',Sensitivity)\n",
    "print('Specificity=',Specificity)\n",
    "print('Precision=',Precision)\n",
    "print('NPV=',NPV)\n",
    "print('Accuracy=',Accuracy)"
   ]
  },
  {
   "cell_type": "markdown",
   "id": "74d3e64b",
   "metadata": {},
   "source": [
    "### MLP"
   ]
  },
  {
   "cell_type": "code",
   "execution_count": 59,
   "id": "23a28fdb",
   "metadata": {},
   "outputs": [
    {
     "name": "stdout",
     "output_type": "stream",
     "text": [
      "666    0\n",
      "43     0\n",
      "132    0\n",
      "123    0\n",
      "73     0\n",
      "      ..\n",
      "806    0\n",
      "455    0\n",
      "648    1\n",
      "743    0\n",
      "424    0\n",
      "Name: spill, Length: 310, dtype: int64 [1 1 1 0 0 1 1 1 1 1 1 1 0 0 1 1 0 1 1 1 1 0 0 0 1 1 1 1 1 1 1 0 0 0 0 1 1\n",
      " 1 0 1 0 0 1 1 1 0 1 0 1 0 1 0 0 0 0 1 1 1 0 1 1 1 1 1 0 1 1 1 0 1 1 0 0 0\n",
      " 0 0 1 0 0 1 0 1 1 0 1 1 0 1 0 0 0 0 0 0 1 1 1 0 1 0 0 0 1 1 0 0 0 1 1 0 1\n",
      " 1 1 1 1 1 1 1 0 1 1 1 1 1 1 1 1 1 1 0 1 0 1 1 1 0 1 1 1 1 0 1 1 0 0 1 1 1\n",
      " 1 1 1 1 0 1 0 0 1 0 1 1 1 1 1 1 1 1 0 1 0 0 1 0 0 0 1 0 0 1 0 1 1 0 1 0 0\n",
      " 0 1 1 1 0 1 1 1 1 1 1 1 0 0 0 1 1 1 0 1 0 1 1 0 0 1 0 1 1 0 1 1 0 1 1 0 1\n",
      " 1 0 1 0 1 0 1 1 1 1 0 1 0 0 1 0 0 0 0 1 1 1 1 0 1 1 0 1 1 0 0 0 1 0 1 1 0\n",
      " 0 0 1 1 1 0 1 0 0 0 1 1 1 1 1 1 0 1 1 1 1 1 1 1 0 1 1 0 1 0 1 0 1 0 0 1 1\n",
      " 0 0 0 1 0 1 1 1 1 1 0 1 1 0]\n"
     ]
    }
   ],
   "source": [
    "y_test,y_pred=mlp(X,y)\n",
    "print(y_test,y_pred)"
   ]
  },
  {
   "cell_type": "code",
   "execution_count": 60,
   "id": "c5179114",
   "metadata": {},
   "outputs": [
    {
     "name": "stdout",
     "output_type": "stream",
     "text": [
      "[[291   5]\n",
      " [ 14   0]]\n"
     ]
    }
   ],
   "source": [
    "cnf_matrix=confusion_matrix(y_test,pred)\n",
    "print(cnf_matrix)"
   ]
  },
  {
   "cell_type": "code",
   "execution_count": 61,
   "id": "7f6dc8ba",
   "metadata": {},
   "outputs": [
    {
     "name": "stdout",
     "output_type": "stream",
     "text": [
      "Sensitivity= 0.9831081081081081\n",
      "Specificity= 0.0\n",
      "Precision= 0.9540983606557377\n",
      "NPV= 0.0\n",
      "Accuracy= 0.9387096774193548\n"
     ]
    }
   ],
   "source": [
    "Sensitivity,Specificity,Precision,NPV,Accuracy = analyse(cnf_matrix)\n",
    "print('Sensitivity=',Sensitivity)\n",
    "print('Specificity=',Specificity)\n",
    "print('Precision=',Precision)\n",
    "print('NPV=',NPV)\n",
    "print('Accuracy=',Accuracy)"
   ]
  },
  {
   "cell_type": "markdown",
   "id": "453fba18",
   "metadata": {},
   "source": [
    "### Menggunakan variance threshold"
   ]
  },
  {
   "cell_type": "code",
   "execution_count": 62,
   "id": "c6fbf77a",
   "metadata": {},
   "outputs": [
    {
     "name": "stdout",
     "output_type": "stream",
     "text": [
      "(937, 49) (937,)\n",
      "[[1.000000e+00 2.558000e+03 1.506090e+03 ... 3.324319e+04 6.574000e+01\n",
      "  7.950000e+00]\n",
      " [2.000000e+00 2.232500e+04 7.911000e+01 ... 5.157204e+04 6.573000e+01\n",
      "  6.260000e+00]\n",
      " [3.000000e+00 1.150000e+02 1.449850e+03 ... 3.169284e+04 6.581000e+01\n",
      "  7.840000e+00]\n",
      " ...\n",
      " [2.020000e+02 1.400000e+01 2.514000e+01 ... 2.153050e+03 6.591000e+01\n",
      "  6.120000e+00]\n",
      " [2.030000e+02 1.000000e+01 9.600000e+01 ... 2.421430e+03 6.597000e+01\n",
      "  6.320000e+00]\n",
      " [2.040000e+02 1.100000e+01 7.730000e+00 ... 3.782680e+03 6.565000e+01\n",
      "  6.260000e+00]]\n"
     ]
    }
   ],
   "source": [
    "from sklearn.feature_selection import VarianceThreshold\n",
    "df_oil = pd.read_csv('oil-spill.csv',header=None)\n",
    "data = df_oil.values\n",
    "X = data[:, :-1]\n",
    "y = data[:, -1]\n",
    "print(X.shape, y.shape)\n",
    "# define the transform\n",
    "transform = VarianceThreshold()\n",
    "# transform the input data\n",
    "X_sel = transform.fit_transform(X)\n",
    "print(X_sel)"
   ]
  },
  {
   "cell_type": "markdown",
   "id": "cdf353cc",
   "metadata": {},
   "source": [
    "### Logistic Regression"
   ]
  },
  {
   "cell_type": "code",
   "execution_count": 63,
   "id": "5bbf75e7",
   "metadata": {},
   "outputs": [
    {
     "name": "stderr",
     "output_type": "stream",
     "text": [
      "C:\\Users\\jmspa\\anaconda3\\lib\\site-packages\\sklearn\\linear_model\\_logistic.py:444: ConvergenceWarning: lbfgs failed to converge (status=1):\n",
      "STOP: TOTAL NO. of ITERATIONS REACHED LIMIT.\n",
      "\n",
      "Increase the number of iterations (max_iter) or scale the data as shown in:\n",
      "    https://scikit-learn.org/stable/modules/preprocessing.html\n",
      "Please also refer to the documentation for alternative solver options:\n",
      "    https://scikit-learn.org/stable/modules/linear_model.html#logistic-regression\n",
      "  n_iter_i = _check_optimize_result(\n"
     ]
    }
   ],
   "source": [
    "y_test,pred =log_regression(X_sel,y)"
   ]
  },
  {
   "cell_type": "code",
   "execution_count": 64,
   "id": "7d4a22d2",
   "metadata": {},
   "outputs": [
    {
     "name": "stdout",
     "output_type": "stream",
     "text": [
      "[[293   3]\n",
      " [ 12   2]]\n"
     ]
    }
   ],
   "source": [
    "cnf_matrix=confusion_matrix(y_test,pred)\n",
    "print(cnf_matrix)"
   ]
  },
  {
   "cell_type": "code",
   "execution_count": 65,
   "id": "11d3557c",
   "metadata": {},
   "outputs": [
    {
     "name": "stdout",
     "output_type": "stream",
     "text": [
      "Sensitivity= 0.9898648648648649\n",
      "Specificity= 0.14285714285714285\n",
      "Precision= 0.9606557377049181\n",
      "NPV= 0.4\n",
      "Accuracy= 0.9516129032258065\n"
     ]
    }
   ],
   "source": [
    "Sensitivity,Specificity,Precision,NPV,Accuracy = analyse(cnf_matrix)\n",
    "print('Sensitivity=',Sensitivity)\n",
    "print('Specificity=',Specificity)\n",
    "print('Precision=',Precision)\n",
    "print('NPV=',NPV)\n",
    "print('Accuracy=',Accuracy)"
   ]
  },
  {
   "cell_type": "markdown",
   "id": "22582c92",
   "metadata": {},
   "source": [
    "### MLP"
   ]
  },
  {
   "cell_type": "code",
   "execution_count": 66,
   "id": "6a670974",
   "metadata": {},
   "outputs": [
    {
     "name": "stdout",
     "output_type": "stream",
     "text": [
      "[0. 0. 0. 0. 0. 0. 0. 0. 0. 0. 0. 0. 0. 0. 0. 0. 0. 0. 0. 0. 0. 0. 0. 0.\n",
      " 0. 0. 0. 0. 0. 0. 0. 0. 0. 0. 0. 0. 0. 0. 0. 0. 0. 0. 0. 0. 0. 0. 0. 0.\n",
      " 0. 0. 0. 0. 0. 0. 0. 0. 0. 0. 0. 0. 0. 0. 0. 0. 0. 0. 0. 0. 0. 0. 0. 0.\n",
      " 0. 0. 0. 1. 1. 0. 0. 0. 0. 0. 0. 0. 0. 0. 0. 0. 0. 0. 0. 0. 0. 0. 0. 0.\n",
      " 0. 0. 0. 0. 0. 0. 0. 1. 0. 0. 0. 0. 0. 0. 0. 0. 0. 0. 0. 0. 0. 0. 0. 0.\n",
      " 0. 0. 0. 0. 0. 0. 0. 0. 0. 0. 0. 0. 0. 0. 0. 0. 0. 0. 0. 0. 0. 0. 0. 0.\n",
      " 0. 0. 0. 0. 0. 0. 0. 0. 0. 0. 0. 0. 0. 0. 0. 0. 0. 0. 0. 0. 0. 0. 0. 0.\n",
      " 0. 0. 0. 0. 0. 0. 0. 0. 0. 1. 0. 0. 0. 0. 0. 0. 0. 0. 0. 0. 1. 0. 0. 0.\n",
      " 0. 0. 0. 0. 0. 0. 0. 0. 0. 0. 0. 0. 0. 0. 0. 0. 1. 0. 0. 0. 0. 0. 0. 0.\n",
      " 0. 0. 0. 0. 0. 0. 0. 0. 0. 0. 1. 0. 0. 1. 0. 0. 0. 0. 0. 0. 0. 0. 0. 0.\n",
      " 0. 0. 0. 0. 0. 0. 0. 0. 0. 0. 0. 0. 0. 0. 0. 0. 0. 0. 0. 0. 0. 0. 0. 0.\n",
      " 0. 0. 0. 0. 0. 0. 0. 0. 0. 0. 0. 0. 0. 0. 0. 1. 0. 0. 0. 0. 0. 0. 0. 0.\n",
      " 0. 0. 0. 0. 0. 0. 0. 0. 0. 0. 0. 0. 0. 0. 0. 0. 0. 0. 0. 0. 0. 0.] [0. 0. 0. 0. 0. 0. 0. 0. 0. 0. 0. 0. 0. 1. 0. 0. 0. 0. 1. 0. 0. 0. 0. 0.\n",
      " 0. 1. 0. 0. 0. 0. 0. 0. 0. 0. 0. 0. 0. 0. 0. 0. 0. 0. 0. 0. 0. 0. 0. 0.\n",
      " 0. 0. 0. 1. 0. 0. 0. 0. 0. 0. 0. 1. 0. 1. 1. 0. 0. 0. 0. 0. 0. 0. 0. 0.\n",
      " 0. 0. 0. 0. 0. 0. 0. 0. 0. 0. 0. 0. 0. 0. 0. 0. 0. 0. 0. 0. 0. 0. 0. 0.\n",
      " 0. 0. 0. 0. 1. 0. 0. 0. 0. 0. 1. 0. 0. 0. 0. 1. 0. 0. 0. 0. 0. 0. 0. 0.\n",
      " 0. 0. 0. 0. 0. 0. 0. 0. 0. 0. 0. 0. 0. 1. 0. 0. 0. 0. 0. 0. 0. 0. 0. 0.\n",
      " 0. 1. 0. 0. 0. 1. 0. 0. 0. 0. 0. 0. 0. 0. 0. 0. 0. 0. 0. 0. 0. 0. 0. 0.\n",
      " 0. 0. 0. 0. 0. 0. 0. 0. 0. 0. 0. 1. 0. 0. 1. 0. 0. 0. 0. 0. 0. 0. 0. 0.\n",
      " 0. 0. 1. 0. 0. 0. 0. 0. 0. 0. 0. 1. 0. 0. 0. 0. 0. 0. 0. 0. 0. 0. 1. 1.\n",
      " 0. 0. 0. 0. 0. 0. 0. 0. 0. 0. 0. 0. 0. 0. 0. 0. 0. 0. 0. 0. 0. 0. 0. 0.\n",
      " 0. 0. 0. 0. 0. 0. 0. 0. 0. 0. 0. 0. 0. 0. 0. 0. 0. 0. 0. 0. 0. 0. 0. 0.\n",
      " 0. 0. 0. 0. 0. 0. 0. 0. 0. 0. 0. 0. 0. 0. 1. 0. 0. 0. 0. 0. 0. 1. 0. 0.\n",
      " 0. 1. 0. 0. 0. 0. 0. 0. 0. 0. 1. 0. 0. 0. 0. 0. 0. 0. 0. 1. 0. 0.]\n"
     ]
    }
   ],
   "source": [
    "y_test,y_pred=mlp(X_sel,y)\n",
    "print(y_test,y_pred)"
   ]
  },
  {
   "cell_type": "code",
   "execution_count": 67,
   "id": "88734099",
   "metadata": {},
   "outputs": [
    {
     "name": "stdout",
     "output_type": "stream",
     "text": [
      "[[296   5]\n",
      " [  9   0]]\n"
     ]
    }
   ],
   "source": [
    "cnf_matrix=confusion_matrix(y_test,pred)\n",
    "print(cnf_matrix)"
   ]
  },
  {
   "cell_type": "code",
   "execution_count": 68,
   "id": "2024ec85",
   "metadata": {},
   "outputs": [
    {
     "name": "stdout",
     "output_type": "stream",
     "text": [
      "Sensitivity= 0.9833887043189369\n",
      "Specificity= 0.0\n",
      "Precision= 0.9704918032786886\n",
      "NPV= 0.0\n",
      "Accuracy= 0.9548387096774194\n"
     ]
    }
   ],
   "source": [
    "Sensitivity,Specificity,Precision,NPV,Accuracy = analyse(cnf_matrix)\n",
    "print('Sensitivity=',Sensitivity)\n",
    "print('Specificity=',Specificity)\n",
    "print('Precision=',Precision)\n",
    "print('NPV=',NPV)\n",
    "print('Accuracy=',Accuracy)"
   ]
  },
  {
   "cell_type": "markdown",
   "id": "c8a3e871",
   "metadata": {},
   "source": [
    "### Menggunakan variance threshold dengan berbagai variasi nilai"
   ]
  },
  {
   "cell_type": "code",
   "execution_count": 69,
   "id": "66c0dbfb",
   "metadata": {},
   "outputs": [
    {
     "name": "stdout",
     "output_type": "stream",
     "text": [
      "(937, 49) (937,)\n",
      "Confusion Matriks Lin Reg [[293   3]\n",
      " [ 12   2]]\n",
      "Sensitivity lin reg= 0.9898648648648649\n",
      "Specificity lin reg= 0.14285714285714285\n",
      "Precision lin reg= 0.9606557377049181\n",
      "NPV lin reg= 0.4\n",
      "Accuracy lin reg= 0.9516129032258065\n",
      "Confusion Matriks MLP [[291  11]\n",
      " [  7   1]]\n",
      "Sensitivity MLP= 0.9635761589403974\n",
      "Specificity MLP= 0.125\n",
      "Precision MLP= 0.9765100671140939\n",
      "NPV MLP= 0.08333333333333333\n",
      "Accuracy MLP= 0.9419354838709677\n",
      ">Threshold=0.00, Features=48\n",
      "Confusion Matriks Lin Reg [[293   3]\n",
      " [ 11   3]]\n",
      "Sensitivity lin reg= 0.9898648648648649\n",
      "Specificity lin reg= 0.21428571428571427\n",
      "Precision lin reg= 0.9638157894736842\n",
      "NPV lin reg= 0.5\n",
      "Accuracy lin reg= 0.9548387096774194\n",
      "Confusion Matriks MLP [[297   0]\n",
      " [ 13   0]]\n",
      "Sensitivity MLP= 1.0\n",
      "Specificity MLP= 0.0\n",
      "Precision MLP= 0.9580645161290322\n",
      "NPV MLP= nan\n",
      "Accuracy MLP= 0.9580645161290322\n",
      ">Threshold=0.05, Features=37\n",
      "Confusion Matriks Lin Reg [[293   3]\n",
      " [ 12   2]]\n",
      "Sensitivity lin reg= 0.9898648648648649\n",
      "Specificity lin reg= 0.14285714285714285\n",
      "Precision lin reg= 0.9606557377049181\n",
      "NPV lin reg= 0.4\n",
      "Accuracy lin reg= 0.9516129032258065\n",
      "Confusion Matriks MLP [[303   0]\n",
      " [  7   0]]\n",
      "Sensitivity MLP= 1.0\n",
      "Specificity MLP= 0.0\n",
      "Precision MLP= 0.9774193548387097\n",
      "NPV MLP= nan\n",
      "Accuracy MLP= 0.9774193548387097\n",
      ">Threshold=0.10, Features=36\n"
     ]
    },
    {
     "name": "stderr",
     "output_type": "stream",
     "text": [
      "C:\\Users\\jmspa\\anaconda3\\lib\\site-packages\\sklearn\\linear_model\\_logistic.py:444: ConvergenceWarning: lbfgs failed to converge (status=1):\n",
      "STOP: TOTAL NO. of ITERATIONS REACHED LIMIT.\n",
      "\n",
      "Increase the number of iterations (max_iter) or scale the data as shown in:\n",
      "    https://scikit-learn.org/stable/modules/preprocessing.html\n",
      "Please also refer to the documentation for alternative solver options:\n",
      "    https://scikit-learn.org/stable/modules/linear_model.html#logistic-regression\n",
      "  n_iter_i = _check_optimize_result(\n",
      "C:\\Users\\jmspa\\anaconda3\\lib\\site-packages\\sklearn\\linear_model\\_logistic.py:444: ConvergenceWarning: lbfgs failed to converge (status=1):\n",
      "STOP: TOTAL NO. of ITERATIONS REACHED LIMIT.\n",
      "\n",
      "Increase the number of iterations (max_iter) or scale the data as shown in:\n",
      "    https://scikit-learn.org/stable/modules/preprocessing.html\n",
      "Please also refer to the documentation for alternative solver options:\n",
      "    https://scikit-learn.org/stable/modules/linear_model.html#logistic-regression\n",
      "  n_iter_i = _check_optimize_result(\n",
      "C:\\Users\\jmspa\\AppData\\Local\\Temp\\ipykernel_5972\\4228534327.py:5: RuntimeWarning: invalid value encountered in longlong_scalars\n",
      "  NPV = cnf_matrix[1][1]/(cnf_matrix[1][1]+cnf_matrix[0][1])\n",
      "C:\\Users\\jmspa\\anaconda3\\lib\\site-packages\\sklearn\\linear_model\\_logistic.py:444: ConvergenceWarning: lbfgs failed to converge (status=1):\n",
      "STOP: TOTAL NO. of ITERATIONS REACHED LIMIT.\n",
      "\n",
      "Increase the number of iterations (max_iter) or scale the data as shown in:\n",
      "    https://scikit-learn.org/stable/modules/preprocessing.html\n",
      "Please also refer to the documentation for alternative solver options:\n",
      "    https://scikit-learn.org/stable/modules/linear_model.html#logistic-regression\n",
      "  n_iter_i = _check_optimize_result(\n",
      "C:\\Users\\jmspa\\AppData\\Local\\Temp\\ipykernel_5972\\4228534327.py:5: RuntimeWarning: invalid value encountered in longlong_scalars\n",
      "  NPV = cnf_matrix[1][1]/(cnf_matrix[1][1]+cnf_matrix[0][1])\n",
      "C:\\Users\\jmspa\\anaconda3\\lib\\site-packages\\sklearn\\linear_model\\_logistic.py:444: ConvergenceWarning: lbfgs failed to converge (status=1):\n",
      "STOP: TOTAL NO. of ITERATIONS REACHED LIMIT.\n",
      "\n",
      "Increase the number of iterations (max_iter) or scale the data as shown in:\n",
      "    https://scikit-learn.org/stable/modules/preprocessing.html\n",
      "Please also refer to the documentation for alternative solver options:\n",
      "    https://scikit-learn.org/stable/modules/linear_model.html#logistic-regression\n",
      "  n_iter_i = _check_optimize_result(\n"
     ]
    },
    {
     "name": "stdout",
     "output_type": "stream",
     "text": [
      "Confusion Matriks Lin Reg [[292   4]\n",
      " [  7   7]]\n",
      "Sensitivity lin reg= 0.9864864864864865\n",
      "Specificity lin reg= 0.5\n",
      "Precision lin reg= 0.9765886287625418\n",
      "NPV lin reg= 0.6363636363636364\n",
      "Accuracy lin reg= 0.964516129032258\n",
      "Confusion Matriks MLP [[295   0]\n",
      " [ 14   1]]\n",
      "Sensitivity MLP= 1.0\n",
      "Specificity MLP= 0.06666666666666667\n",
      "Precision MLP= 0.9546925566343042\n",
      "NPV MLP= 1.0\n",
      "Accuracy MLP= 0.9548387096774194\n",
      ">Threshold=0.15, Features=35\n",
      "Confusion Matriks Lin Reg [[292   4]\n",
      " [  7   7]]\n",
      "Sensitivity lin reg= 0.9864864864864865\n",
      "Specificity lin reg= 0.5\n",
      "Precision lin reg= 0.9765886287625418\n",
      "NPV lin reg= 0.6363636363636364\n",
      "Accuracy lin reg= 0.964516129032258\n",
      "Confusion Matriks MLP [[291   0]\n",
      " [ 19   0]]\n",
      "Sensitivity MLP= 1.0\n",
      "Specificity MLP= 0.0\n",
      "Precision MLP= 0.9387096774193548\n",
      "NPV MLP= nan\n",
      "Accuracy MLP= 0.9387096774193548\n",
      ">Threshold=0.20, Features=35\n",
      "Confusion Matriks Lin Reg [[292   4]\n",
      " [  7   7]]\n",
      "Sensitivity lin reg= 0.9864864864864865\n",
      "Specificity lin reg= 0.5\n",
      "Precision lin reg= 0.9765886287625418\n",
      "NPV lin reg= 0.6363636363636364\n",
      "Accuracy lin reg= 0.964516129032258\n",
      "Confusion Matriks MLP [[ 61 237]\n",
      " [  3   9]]\n",
      "Sensitivity MLP= 0.20469798657718122\n",
      "Specificity MLP= 0.75\n",
      "Precision MLP= 0.953125\n",
      "NPV MLP= 0.036585365853658534\n",
      "Accuracy MLP= 0.22580645161290322\n",
      ">Threshold=0.25, Features=35\n",
      "Confusion Matriks Lin Reg [[292   4]\n",
      " [  7   7]]\n",
      "Sensitivity lin reg= 0.9864864864864865\n",
      "Specificity lin reg= 0.5\n",
      "Precision lin reg= 0.9765886287625418\n",
      "NPV lin reg= 0.6363636363636364\n",
      "Accuracy lin reg= 0.964516129032258\n",
      "Confusion Matriks MLP [[252  47]\n",
      " [  9   2]]\n",
      "Sensitivity MLP= 0.842809364548495\n",
      "Specificity MLP= 0.18181818181818182\n",
      "Precision MLP= 0.9655172413793104\n",
      "NPV MLP= 0.04081632653061224\n",
      "Accuracy MLP= 0.8193548387096774\n",
      ">Threshold=0.30, Features=35\n"
     ]
    },
    {
     "name": "stderr",
     "output_type": "stream",
     "text": [
      "C:\\Users\\jmspa\\anaconda3\\lib\\site-packages\\sklearn\\linear_model\\_logistic.py:444: ConvergenceWarning: lbfgs failed to converge (status=1):\n",
      "STOP: TOTAL NO. of ITERATIONS REACHED LIMIT.\n",
      "\n",
      "Increase the number of iterations (max_iter) or scale the data as shown in:\n",
      "    https://scikit-learn.org/stable/modules/preprocessing.html\n",
      "Please also refer to the documentation for alternative solver options:\n",
      "    https://scikit-learn.org/stable/modules/linear_model.html#logistic-regression\n",
      "  n_iter_i = _check_optimize_result(\n",
      "C:\\Users\\jmspa\\AppData\\Local\\Temp\\ipykernel_5972\\4228534327.py:5: RuntimeWarning: invalid value encountered in longlong_scalars\n",
      "  NPV = cnf_matrix[1][1]/(cnf_matrix[1][1]+cnf_matrix[0][1])\n",
      "C:\\Users\\jmspa\\anaconda3\\lib\\site-packages\\sklearn\\linear_model\\_logistic.py:444: ConvergenceWarning: lbfgs failed to converge (status=1):\n",
      "STOP: TOTAL NO. of ITERATIONS REACHED LIMIT.\n",
      "\n",
      "Increase the number of iterations (max_iter) or scale the data as shown in:\n",
      "    https://scikit-learn.org/stable/modules/preprocessing.html\n",
      "Please also refer to the documentation for alternative solver options:\n",
      "    https://scikit-learn.org/stable/modules/linear_model.html#logistic-regression\n",
      "  n_iter_i = _check_optimize_result(\n",
      "C:\\Users\\jmspa\\anaconda3\\lib\\site-packages\\sklearn\\linear_model\\_logistic.py:444: ConvergenceWarning: lbfgs failed to converge (status=1):\n",
      "STOP: TOTAL NO. of ITERATIONS REACHED LIMIT.\n",
      "\n",
      "Increase the number of iterations (max_iter) or scale the data as shown in:\n",
      "    https://scikit-learn.org/stable/modules/preprocessing.html\n",
      "Please also refer to the documentation for alternative solver options:\n",
      "    https://scikit-learn.org/stable/modules/linear_model.html#logistic-regression\n",
      "  n_iter_i = _check_optimize_result(\n",
      "C:\\Users\\jmspa\\anaconda3\\lib\\site-packages\\sklearn\\linear_model\\_logistic.py:444: ConvergenceWarning: lbfgs failed to converge (status=1):\n",
      "STOP: TOTAL NO. of ITERATIONS REACHED LIMIT.\n",
      "\n",
      "Increase the number of iterations (max_iter) or scale the data as shown in:\n",
      "    https://scikit-learn.org/stable/modules/preprocessing.html\n",
      "Please also refer to the documentation for alternative solver options:\n",
      "    https://scikit-learn.org/stable/modules/linear_model.html#logistic-regression\n",
      "  n_iter_i = _check_optimize_result(\n",
      "C:\\Users\\jmspa\\AppData\\Local\\Temp\\ipykernel_5972\\4228534327.py:5: RuntimeWarning: invalid value encountered in longlong_scalars\n",
      "  NPV = cnf_matrix[1][1]/(cnf_matrix[1][1]+cnf_matrix[0][1])\n"
     ]
    },
    {
     "name": "stdout",
     "output_type": "stream",
     "text": [
      "Confusion Matriks Lin Reg [[292   4]\n",
      " [  7   7]]\n",
      "Sensitivity lin reg= 0.9864864864864865\n",
      "Specificity lin reg= 0.5\n",
      "Precision lin reg= 0.9765886287625418\n",
      "NPV lin reg= 0.6363636363636364\n",
      "Accuracy lin reg= 0.964516129032258\n",
      "Confusion Matriks MLP [[297   0]\n",
      " [ 13   0]]\n",
      "Sensitivity MLP= 1.0\n",
      "Specificity MLP= 0.0\n",
      "Precision MLP= 0.9580645161290322\n",
      "NPV MLP= nan\n",
      "Accuracy MLP= 0.9580645161290322\n",
      ">Threshold=0.35, Features=35\n",
      "Confusion Matriks Lin Reg [[292   4]\n",
      " [  7   7]]\n",
      "Sensitivity lin reg= 0.9864864864864865\n",
      "Specificity lin reg= 0.5\n",
      "Precision lin reg= 0.9765886287625418\n",
      "NPV lin reg= 0.6363636363636364\n",
      "Accuracy lin reg= 0.964516129032258\n",
      "Confusion Matriks MLP [[297   0]\n",
      " [ 13   0]]\n",
      "Sensitivity MLP= 1.0\n",
      "Specificity MLP= 0.0\n",
      "Precision MLP= 0.9580645161290322\n",
      "NPV MLP= nan\n",
      "Accuracy MLP= 0.9580645161290322\n",
      ">Threshold=0.40, Features=35\n",
      "Confusion Matriks Lin Reg [[292   4]\n",
      " [ 12   2]]\n",
      "Sensitivity lin reg= 0.9864864864864865\n",
      "Specificity lin reg= 0.14285714285714285\n",
      "Precision lin reg= 0.9605263157894737\n",
      "NPV lin reg= 0.3333333333333333\n",
      "Accuracy lin reg= 0.9483870967741935\n",
      "Confusion Matriks MLP [[293   4]\n",
      " [ 11   2]]\n",
      "Sensitivity MLP= 0.9865319865319865\n",
      "Specificity MLP= 0.15384615384615385\n",
      "Precision MLP= 0.9638157894736842\n",
      "NPV MLP= 0.3333333333333333\n",
      "Accuracy MLP= 0.9516129032258065\n",
      ">Threshold=0.45, Features=33\n",
      "Confusion Matriks Lin Reg [[292   4]\n",
      " [ 12   2]]\n",
      "Sensitivity lin reg= 0.9864864864864865\n",
      "Specificity lin reg= 0.14285714285714285\n",
      "Precision lin reg= 0.9605263157894737\n",
      "NPV lin reg= 0.3333333333333333\n",
      "Accuracy lin reg= 0.9483870967741935\n",
      "Confusion Matriks MLP [[294   0]\n",
      " [ 16   0]]\n",
      "Sensitivity MLP= 1.0\n",
      "Specificity MLP= 0.0\n",
      "Precision MLP= 0.9483870967741935\n",
      "NPV MLP= nan\n",
      "Accuracy MLP= 0.9483870967741935\n",
      ">Threshold=0.50, Features=31\n"
     ]
    },
    {
     "name": "stderr",
     "output_type": "stream",
     "text": [
      "C:\\Users\\jmspa\\anaconda3\\lib\\site-packages\\sklearn\\linear_model\\_logistic.py:444: ConvergenceWarning: lbfgs failed to converge (status=1):\n",
      "STOP: TOTAL NO. of ITERATIONS REACHED LIMIT.\n",
      "\n",
      "Increase the number of iterations (max_iter) or scale the data as shown in:\n",
      "    https://scikit-learn.org/stable/modules/preprocessing.html\n",
      "Please also refer to the documentation for alternative solver options:\n",
      "    https://scikit-learn.org/stable/modules/linear_model.html#logistic-regression\n",
      "  n_iter_i = _check_optimize_result(\n",
      "C:\\Users\\jmspa\\AppData\\Local\\Temp\\ipykernel_5972\\4228534327.py:5: RuntimeWarning: invalid value encountered in longlong_scalars\n",
      "  NPV = cnf_matrix[1][1]/(cnf_matrix[1][1]+cnf_matrix[0][1])\n",
      "C:\\Users\\jmspa\\anaconda3\\lib\\site-packages\\sklearn\\linear_model\\_logistic.py:444: ConvergenceWarning: lbfgs failed to converge (status=1):\n",
      "STOP: TOTAL NO. of ITERATIONS REACHED LIMIT.\n",
      "\n",
      "Increase the number of iterations (max_iter) or scale the data as shown in:\n",
      "    https://scikit-learn.org/stable/modules/preprocessing.html\n",
      "Please also refer to the documentation for alternative solver options:\n",
      "    https://scikit-learn.org/stable/modules/linear_model.html#logistic-regression\n",
      "  n_iter_i = _check_optimize_result(\n",
      "C:\\Users\\jmspa\\anaconda3\\lib\\site-packages\\sklearn\\linear_model\\_logistic.py:444: ConvergenceWarning: lbfgs failed to converge (status=1):\n",
      "STOP: TOTAL NO. of ITERATIONS REACHED LIMIT.\n",
      "\n",
      "Increase the number of iterations (max_iter) or scale the data as shown in:\n",
      "    https://scikit-learn.org/stable/modules/preprocessing.html\n",
      "Please also refer to the documentation for alternative solver options:\n",
      "    https://scikit-learn.org/stable/modules/linear_model.html#logistic-regression\n",
      "  n_iter_i = _check_optimize_result(\n",
      "C:\\Users\\jmspa\\AppData\\Local\\Temp\\ipykernel_5972\\4228534327.py:5: RuntimeWarning: invalid value encountered in longlong_scalars\n",
      "  NPV = cnf_matrix[1][1]/(cnf_matrix[1][1]+cnf_matrix[0][1])\n"
     ]
    },
    {
     "data": {
      "image/png": "[encoded data removed]",
      "text/plain": [
       "<Figure size 432x288 with 1 Axes>"
      ]
     },
     "metadata": {
      "needs_background": "light"
     },
     "output_type": "display_data"
    }
   ],
   "source": [
    "from sklearn.feature_selection import VarianceThreshold\n",
    "from numpy import arange\n",
    "from matplotlib import pyplot\n",
    "df_oil = pd.read_csv('oil-spill.csv',header=None)\n",
    "# split data into inputs and outputs\n",
    "data = df_oil.values\n",
    "X = data[:, :-1]\n",
    "y = data[:, -1]\n",
    "print(X.shape, y.shape)\n",
    "# define thresholds to check\n",
    "thresholds = arange(0.0, 0.55, 0.05)\n",
    "# apply transform with each threshold\n",
    "results = list()\n",
    "for t in thresholds:\n",
    "    # define the transform\n",
    "    transform = VarianceThreshold(threshold=t)\n",
    "    # transform the input data\n",
    "    X_sel = transform.fit_transform(X)\n",
    "    y_test,pred =log_regression(X_sel,y)\n",
    "    y_test_mlp,y_pred_mlp=mlp(X_sel,y)\n",
    "    cnf_matrix=confusion_matrix(y_test,pred)\n",
    "    Sensitivity,Specificity,Precision,NPV,Accuracy = analyse(cnf_matrix)\n",
    "    cnf_matrix_mlp=confusion_matrix(y_test_mlp,y_pred_mlp)\n",
    "    Sensitivity_mlp,Specificity_mlp,Precision_mlp,NPV_mlp,Accuracy_mlp = analyse(cnf_matrix_mlp)\n",
    "    print('Confusion Matriks Lin Reg',cnf_matrix)\n",
    "    print('Sensitivity lin reg=',Sensitivity)\n",
    "    print('Specificity lin reg=',Specificity)\n",
    "    print('Precision lin reg=',Precision)\n",
    "    print('NPV lin reg=',NPV)\n",
    "    print('Accuracy lin reg=',Accuracy)\n",
    "    print('Confusion Matriks MLP',cnf_matrix_mlp)\n",
    "    print('Sensitivity MLP=',Sensitivity_mlp)\n",
    "    print('Specificity MLP=',Specificity_mlp)\n",
    "    print('Precision MLP=',Precision_mlp)\n",
    "    print('NPV MLP=',NPV_mlp)\n",
    "    print('Accuracy MLP=',Accuracy_mlp)\n",
    "    # determine the number of input features\n",
    "    n_features = X_sel.shape[1]\n",
    "    print('>Threshold=%.2f, Features=%d' % (t, n_features))\n",
    "    # store the result\n",
    "    results.append(n_features)\n",
    "# plot the threshold vs the number of selected features\n",
    "pyplot.plot(thresholds, results)\n",
    "pyplot.show()"
   ]
  },
  {
   "cell_type": "code",
   "execution_count": null,
   "id": "d86e2835",
   "metadata": {},
   "outputs": [],
   "source": []
  }
 ],
 "metadata": {
  "kernelspec": {
   "display_name": "Python 3 (ipykernel)",
   "language": "python",
   "name": "python3"
  },
  "language_info": {
   "codemirror_mode": {
    "name": "ipython",
    "version": 3
   },
   "file_extension": ".py",
   "mimetype": "text/x-python",
   "name": "python",
   "nbconvert_exporter": "python",
   "pygments_lexer": "ipython3",
   "version": "3.8.5"
  }
 },
 "nbformat": 4,
 "nbformat_minor": 5
}
